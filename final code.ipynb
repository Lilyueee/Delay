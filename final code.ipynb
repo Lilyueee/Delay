{
 "cells": [
  {
   "cell_type": "markdown",
   "id": "a44b7044",
   "metadata": {
    "toc": true
   },
   "source": [
    "<h1>Table of Contents<span class=\"tocSkip\"></span></h1>\n",
    "<div class=\"toc\"><ul class=\"toc-item\"><li><span><a href=\"#Business-Story\" data-toc-modified-id=\"Business-Story-1\"><span class=\"toc-item-num\">1&nbsp;&nbsp;</span>Business Story</a></span></li><li><span><a href=\"#Import-Modules\" data-toc-modified-id=\"Import-Modules-2\"><span class=\"toc-item-num\">2&nbsp;&nbsp;</span>Import Modules</a></span></li><li><span><a href=\"#Read-in-Dataset\" data-toc-modified-id=\"Read-in-Dataset-3\"><span class=\"toc-item-num\">3&nbsp;&nbsp;</span>Read in Dataset</a></span></li><li><span><a href=\"#Data-Preperation\" data-toc-modified-id=\"Data-Preperation-4\"><span class=\"toc-item-num\">4&nbsp;&nbsp;</span>Data Preperation</a></span><ul class=\"toc-item\"><li><ul class=\"toc-item\"><li><span><a href=\"#Handling-missing-values\" data-toc-modified-id=\"Handling-missing-values-4.0.1\"><span class=\"toc-item-num\">4.0.1&nbsp;&nbsp;</span>Handling missing values</a></span></li><li><span><a href=\"#Adding-features\" data-toc-modified-id=\"Adding-features-4.0.2\"><span class=\"toc-item-num\">4.0.2&nbsp;&nbsp;</span>Adding features</a></span></li></ul></li></ul></li><li><span><a href=\"#Data-Visualization\" data-toc-modified-id=\"Data-Visualization-5\"><span class=\"toc-item-num\">5&nbsp;&nbsp;</span>Data Visualization</a></span><ul class=\"toc-item\"><li><ul class=\"toc-item\"><li><span><a href=\"#The-relationship-between-days-of-the-week-and-delays\" data-toc-modified-id=\"The-relationship-between-days-of-the-week-and-delays-5.0.1\"><span class=\"toc-item-num\">5.0.1&nbsp;&nbsp;</span>The relationship between days of the week and delays</a></span></li><li><span><a href=\"#The-relationship-between-states-and-delays\" data-toc-modified-id=\"The-relationship-between-states-and-delays-5.0.2\"><span class=\"toc-item-num\">5.0.2&nbsp;&nbsp;</span>The relationship between states and delays</a></span></li><li><span><a href=\"#The-relationship-between-carriers-and-delays\" data-toc-modified-id=\"The-relationship-between-carriers-and-delays-5.0.3\"><span class=\"toc-item-num\">5.0.3&nbsp;&nbsp;</span>The relationship between carriers and delays</a></span></li><li><span><a href=\"#The-relationship-between-distance-and-delays\" data-toc-modified-id=\"The-relationship-between-distance-and-delays-5.0.4\"><span class=\"toc-item-num\">5.0.4&nbsp;&nbsp;</span>The relationship between distance and delays</a></span></li><li><span><a href=\"#The-relationship-between-various-delay-causes-and-delays\" data-toc-modified-id=\"The-relationship-between-various-delay-causes-and-delays-5.0.5\"><span class=\"toc-item-num\">5.0.5&nbsp;&nbsp;</span>The relationship between various delay causes and delays</a></span></li></ul></li></ul></li><li><span><a href=\"#Predictive-Modelling\" data-toc-modified-id=\"Predictive-Modelling-6\"><span class=\"toc-item-num\">6&nbsp;&nbsp;</span>Predictive Modelling</a></span><ul class=\"toc-item\"><li><span><a href=\"#Data-Engineering\" data-toc-modified-id=\"Data-Engineering-6.1\"><span class=\"toc-item-num\">6.1&nbsp;&nbsp;</span>Data Engineering</a></span></li><li><span><a href=\"#Model-Construction\" data-toc-modified-id=\"Model-Construction-6.2\"><span class=\"toc-item-num\">6.2&nbsp;&nbsp;</span>Model Construction</a></span><ul class=\"toc-item\"><li><span><a href=\"#Model-Selection\" data-toc-modified-id=\"Model-Selection-6.2.1\"><span class=\"toc-item-num\">6.2.1&nbsp;&nbsp;</span>Model Selection</a></span></li><li><span><a href=\"#Divide-into-Train-and-Test-Dataset\" data-toc-modified-id=\"Divide-into-Train-and-Test-Dataset-6.2.2\"><span class=\"toc-item-num\">6.2.2&nbsp;&nbsp;</span>Divide into Train and Test Dataset</a></span></li><li><span><a href=\"#Logistic-Regression\" data-toc-modified-id=\"Logistic-Regression-6.2.3\"><span class=\"toc-item-num\">6.2.3&nbsp;&nbsp;</span>Logistic Regression</a></span></li><li><span><a href=\"#Decision-Tree\" data-toc-modified-id=\"Decision-Tree-6.2.4\"><span class=\"toc-item-num\">6.2.4&nbsp;&nbsp;</span>Decision Tree</a></span></li><li><span><a href=\"#Random-Forest\" data-toc-modified-id=\"Random-Forest-6.2.5\"><span class=\"toc-item-num\">6.2.5&nbsp;&nbsp;</span>Random Forest</a></span></li><li><span><a href=\"#Hyperparameter-Tuning-for-RandomForest\" data-toc-modified-id=\"Hyperparameter-Tuning-for-RandomForest-6.2.6\"><span class=\"toc-item-num\">6.2.6&nbsp;&nbsp;</span>Hyperparameter Tuning for RandomForest</a></span></li></ul></li></ul></li><li><span><a href=\"#Further-Supplement\" data-toc-modified-id=\"Further-Supplement-7\"><span class=\"toc-item-num\">7&nbsp;&nbsp;</span>Further Supplement</a></span><ul class=\"toc-item\"><li><span><a href=\"#Crawl-the-supplementary-data\" data-toc-modified-id=\"Crawl-the-supplementary-data-7.1\"><span class=\"toc-item-num\">7.1&nbsp;&nbsp;</span>Crawl the supplementary data</a></span></li><li><span><a href=\"#Read-in-the-Supplement-Dataset\" data-toc-modified-id=\"Read-in-the-Supplement-Dataset-7.2\"><span class=\"toc-item-num\">7.2&nbsp;&nbsp;</span>Read in the Supplement Dataset</a></span></li><li><span><a href=\"#Data-Processing\" data-toc-modified-id=\"Data-Processing-7.3\"><span class=\"toc-item-num\">7.3&nbsp;&nbsp;</span>Data Processing</a></span></li><li><span><a href=\"#Predictive-Models\" data-toc-modified-id=\"Predictive-Models-7.4\"><span class=\"toc-item-num\">7.4&nbsp;&nbsp;</span>Predictive Models</a></span><ul class=\"toc-item\"><li><span><a href=\"#Logistic-Regression\" data-toc-modified-id=\"Logistic-Regression-7.4.1\"><span class=\"toc-item-num\">7.4.1&nbsp;&nbsp;</span>Logistic Regression</a></span></li><li><span><a href=\"#Decision-Tree\" data-toc-modified-id=\"Decision-Tree-7.4.2\"><span class=\"toc-item-num\">7.4.2&nbsp;&nbsp;</span>Decision Tree</a></span></li><li><span><a href=\"#Random-Forest\" data-toc-modified-id=\"Random-Forest-7.4.3\"><span class=\"toc-item-num\">7.4.3&nbsp;&nbsp;</span>Random Forest</a></span></li><li><span><a href=\"#k-nearest-Neighbors-Algorithm-(k-NN)\" data-toc-modified-id=\"k-nearest-Neighbors-Algorithm-(k-NN)-7.4.4\"><span class=\"toc-item-num\">7.4.4&nbsp;&nbsp;</span>k-nearest Neighbors Algorithm (k-NN)</a></span></li></ul></li></ul></li><li><span><a href=\"#Conclusion\" data-toc-modified-id=\"Conclusion-8\"><span class=\"toc-item-num\">8&nbsp;&nbsp;</span>Conclusion</a></span></li></ul></div>"
   ]
  },
  {
   "cell_type": "markdown",
   "id": "72764368",
   "metadata": {},
   "source": [
    "# Business Story"
   ]
  },
  {
   "cell_type": "markdown",
   "id": "505deffe",
   "metadata": {},
   "source": [
    "The COVID-19 epidemic has had an effect on the airline industry. Working for data science group in the US Department of Transportation, I aim to optimize forecast of flight arrival delays and offer citizens with more accurate reminder information. I analyze and anticipate flight delays based on a database about US airline statistics in January 2022 by Bureau of Transportation Statistics. As a result, the Ministry of Transportation and airline carriers can have the ability to make more accurate forecasts and do additional changes to better plan flights."
   ]
  },
  {
   "cell_type": "markdown",
   "id": "85bfaf12",
   "metadata": {},
   "source": [
    "# Import Modules"
   ]
  },
  {
   "cell_type": "code",
   "execution_count": 116,
   "id": "d0a096a7",
   "metadata": {},
   "outputs": [],
   "source": [
    "import numpy as np\n",
    "import pandas as pd\n",
    "import math\n",
    "import matplotlib.pyplot as plt\n",
    "import seaborn as sns\n",
    "\n",
    "from pandas_profiling import ProfileReport as pr\n",
    "from sklearn.model_selection import train_test_split\n",
    "from sklearn.preprocessing import LabelEncoder\n",
    "from sklearn import model_selection\n",
    "from sklearn import linear_model\n",
    "from sklearn import metrics\n",
    "from sklearn import tree\n",
    "from sklearn.tree import DecisionTreeClassifier\n",
    "from sklearn.model_selection import GridSearchCV\n",
    "from sklearn import ensemble\n",
    "from sklearn.neighbors import KNeighborsClassifier\n",
    "from sklearn.model_selection import cross_val_score\n",
    "from sklearn.ensemble import RandomForestClassifier"
   ]
  },
  {
   "cell_type": "markdown",
   "id": "fb29c709",
   "metadata": {},
   "source": [
    "# Read in Dataset"
   ]
  },
  {
   "cell_type": "markdown",
   "id": "c856c095",
   "metadata": {},
   "source": [
    "On the BTS website, we found another more detailed dataset. I selected the records of all flights in the United States in January 2022, including the date, departure state, arrival state, departure time, arrival time, distance and other information of each flight. \n",
    "The dataset is downloaded from https://transtats.bts.gov/DL_SelectFields.aspx?gnoyr_VQ=FGK&QO_fu146_anzr=b0-gvzr."
   ]
  },
  {
   "cell_type": "markdown",
   "id": "7fd32608",
   "metadata": {},
   "source": [
    "Due to submission size limitations on my.wbs, the link of the dataset is put here for downloading. https://livewarwickac-my.sharepoint.com/:f:/g/personal/u2118963_live_warwick_ac_uk/ErNythFU0FpOp6NIrSJ5TGIBk4EtETYkaeIGZdF-_WfwnQ?e=1CRlz3"
   ]
  },
  {
   "cell_type": "code",
   "execution_count": 2,
   "id": "8833e718",
   "metadata": {
    "scrolled": true
   },
   "outputs": [
    {
     "name": "stdout",
     "output_type": "stream",
     "text": [
      "<class 'pandas.core.frame.DataFrame'>\n",
      "RangeIndex: 563737 entries, 0 to 563736\n",
      "Data columns (total 36 columns):\n",
      " #   Column               Non-Null Count   Dtype  \n",
      "---  ------               --------------   -----  \n",
      " 0   DAY_OF_MONTH         563737 non-null  int64  \n",
      " 1   DAY_OF_WEEK          563737 non-null  int64  \n",
      " 2   FL_DATE              563737 non-null  object \n",
      " 3   MKT_UNIQUE_CARRIER   563737 non-null  object \n",
      " 4   OP_UNIQUE_CARRIER    563737 non-null  object \n",
      " 5   TAIL_NUM             553169 non-null  object \n",
      " 6   ORIGIN_AIRPORT_ID    563737 non-null  int64  \n",
      " 7   ORIGIN_STATE_ABR     563737 non-null  object \n",
      " 8   DEST_AIRPORT_ID      563737 non-null  int64  \n",
      " 9   DEST_STATE_ABR       563737 non-null  object \n",
      " 10  CRS_DEP_TIME         563737 non-null  int64  \n",
      " 11  DEP_TIME             528463 non-null  float64\n",
      " 12  DEP_DELAY            528452 non-null  float64\n",
      " 13  DEP_DELAY_GROUP      528452 non-null  float64\n",
      " 14  TAXI_OUT             528201 non-null  float64\n",
      " 15  WHEELS_OFF           528201 non-null  float64\n",
      " 16  WHEELS_ON            527852 non-null  float64\n",
      " 17  TAXI_IN              527852 non-null  float64\n",
      " 18  CRS_ARR_TIME         563737 non-null  int64  \n",
      " 19  ARR_TIME             527854 non-null  float64\n",
      " 20  ARR_DELAY            526894 non-null  float64\n",
      " 21  ARR_DELAY_GROUP      526894 non-null  float64\n",
      " 22  CANCELLED            563737 non-null  int64  \n",
      " 23  CANCELLATION_CODE    35667 non-null   object \n",
      " 24  DIVERTED             563737 non-null  int64  \n",
      " 25  CRS_ELAPSED_TIME     563737 non-null  int64  \n",
      " 26  ACTUAL_ELAPSED_TIME  526894 non-null  float64\n",
      " 27  AIR_TIME             526894 non-null  float64\n",
      " 28  FLIGHTS              563737 non-null  int64  \n",
      " 29  DISTANCE             563737 non-null  int64  \n",
      " 30  DISTANCE_GROUP       563737 non-null  int64  \n",
      " 31  CARRIER_DELAY        102515 non-null  float64\n",
      " 32  WEATHER_DELAY        102515 non-null  float64\n",
      " 33  NAS_DELAY            102515 non-null  float64\n",
      " 34  SECURITY_DELAY       102515 non-null  float64\n",
      " 35  LATE_AIRCRAFT_DELAY  102515 non-null  float64\n",
      "dtypes: float64(17), int64(12), object(7)\n",
      "memory usage: 154.8+ MB\n",
      "None\n"
     ]
    }
   ],
   "source": [
    "df=pd.read_csv('flight.csv')\n",
    "print(df.info())"
   ]
  },
  {
   "cell_type": "markdown",
   "id": "f2650b79",
   "metadata": {},
   "source": [
    "# Data Preperation"
   ]
  },
  {
   "cell_type": "markdown",
   "id": "0b17a1fa",
   "metadata": {},
   "source": [
    "### Handling missing values"
   ]
  },
  {
   "cell_type": "markdown",
   "id": "2ccbfa94",
   "metadata": {},
   "source": [
    "Since we are primarily interested in the situation of flight delays here, and it is difficult to take flight cancellations into account together due to the fact that some necessary research variables, such as the actual departure time, are not available in cancellation cases, we first extract the cancelled flights separately as a flight cancellation dataset in order to look at delay prediction more accurately and also for subsequent research analysis."
   ]
  },
  {
   "cell_type": "code",
   "execution_count": 4,
   "id": "29451c1d",
   "metadata": {},
   "outputs": [
    {
     "name": "stdout",
     "output_type": "stream",
     "text": [
      "<class 'pandas.core.frame.DataFrame'>\n",
      "Int64Index: 35274 entries, 15 to 563448\n",
      "Data columns (total 19 columns):\n",
      " #   Column              Non-Null Count  Dtype \n",
      "---  ------              --------------  ----- \n",
      " 0   DAY_OF_MONTH        35274 non-null  int64 \n",
      " 1   DAY_OF_WEEK         35274 non-null  int64 \n",
      " 2   FL_DATE             35274 non-null  object\n",
      " 3   MKT_UNIQUE_CARRIER  35274 non-null  object\n",
      " 4   OP_UNIQUE_CARRIER   35274 non-null  object\n",
      " 5   TAIL_NUM            24706 non-null  object\n",
      " 6   ORIGIN_AIRPORT_ID   35274 non-null  int64 \n",
      " 7   ORIGIN_STATE_ABR    35274 non-null  object\n",
      " 8   DEST_AIRPORT_ID     35274 non-null  int64 \n",
      " 9   DEST_STATE_ABR      35274 non-null  object\n",
      " 10  CRS_DEP_TIME        35274 non-null  int64 \n",
      " 11  CRS_ARR_TIME        35274 non-null  int64 \n",
      " 12  CANCELLED           35274 non-null  int64 \n",
      " 13  CANCELLATION_CODE   35274 non-null  object\n",
      " 14  DIVERTED            35274 non-null  int64 \n",
      " 15  CRS_ELAPSED_TIME    35274 non-null  int64 \n",
      " 16  FLIGHTS             35274 non-null  int64 \n",
      " 17  DISTANCE            35274 non-null  int64 \n",
      " 18  DISTANCE_GROUP      35274 non-null  int64 \n",
      "dtypes: int64(12), object(7)\n",
      "memory usage: 5.4+ MB\n"
     ]
    }
   ],
   "source": [
    "df_cancelled=df.loc[df['CANCELLED']==1]\n",
    "\n",
    "#remove unnecessary columns\n",
    "df_cancelled=df_cancelled.drop(columns=['WHEELS_ON','TAXI_IN','ARR_TIME','ARR_DELAY','ARR_DELAY_GROUP','ACTUAL_ELAPSED_TIME','AIR_TIME','CARRIER_DELAY','WEATHER_DELAY','NAS_DELAY','SECURITY_DELAY','LATE_AIRCRAFT_DELAY'])\n",
    "df_cancelled=df_cancelled.loc[df_cancelled['DEP_TIME'].isnull()]\n",
    "df_cancelled=df_cancelled.drop(columns=['DEP_TIME','DEP_DELAY','DEP_DELAY_GROUP','TAXI_OUT','WHEELS_OFF'])\n",
    "\n",
    "#Get a collection of cancelled flights\n",
    "df_cancelled.info()"
   ]
  },
  {
   "cell_type": "markdown",
   "id": "3213804c",
   "metadata": {},
   "source": [
    "Delete canceled related data in the original dataset."
   ]
  },
  {
   "cell_type": "code",
   "execution_count": 5,
   "id": "8a569522",
   "metadata": {},
   "outputs": [
    {
     "data": {
      "text/plain": [
       "DAY_OF_MONTH                0\n",
       "DAY_OF_WEEK                 0\n",
       "FL_DATE                     0\n",
       "MKT_UNIQUE_CARRIER          0\n",
       "OP_UNIQUE_CARRIER           0\n",
       "TAIL_NUM                    0\n",
       "ORIGIN_AIRPORT_ID           0\n",
       "ORIGIN_STATE_ABR            0\n",
       "DEST_AIRPORT_ID             0\n",
       "DEST_STATE_ABR              0\n",
       "CRS_DEP_TIME                0\n",
       "DEP_TIME                    0\n",
       "DEP_DELAY                   0\n",
       "DEP_DELAY_GROUP             0\n",
       "TAXI_OUT                    0\n",
       "WHEELS_OFF                  0\n",
       "WHEELS_ON                 218\n",
       "TAXI_IN                   218\n",
       "CRS_ARR_TIME                0\n",
       "ARR_TIME                  216\n",
       "ARR_DELAY                1176\n",
       "ARR_DELAY_GROUP          1176\n",
       "DIVERTED                    0\n",
       "CRS_ELAPSED_TIME            0\n",
       "ACTUAL_ELAPSED_TIME      1176\n",
       "AIR_TIME                 1176\n",
       "FLIGHTS                     0\n",
       "DISTANCE                    0\n",
       "DISTANCE_GROUP              0\n",
       "CARRIER_DELAY          425555\n",
       "WEATHER_DELAY          425555\n",
       "NAS_DELAY              425555\n",
       "SECURITY_DELAY         425555\n",
       "LATE_AIRCRAFT_DELAY    425555\n",
       "dtype: int64"
      ]
     },
     "execution_count": 5,
     "metadata": {},
     "output_type": "execute_result"
    }
   ],
   "source": [
    "df=df.drop(df.loc[df['CANCELLED']==1].index)\n",
    "df=df.drop(columns=['CANCELLED','CANCELLATION_CODE'])\n",
    "\n",
    "#again check missing values\n",
    "df.isnull().sum()"
   ]
  },
  {
   "cell_type": "markdown",
   "id": "87d263ff",
   "metadata": {},
   "source": [
    "As the delay time has to be calculated by subtracting the departure time from the arrival time, we first erase all data that does not include the arrival time. And after deleting the missing values of arrival time, we found that there are only two missing values of 'WHEELS_ON' and 'TAXI_IN', which are connected to arrival time, so we also employ missing values deletion for these two variables."
   ]
  },
  {
   "cell_type": "code",
   "execution_count": 6,
   "id": "370eb3d3",
   "metadata": {},
   "outputs": [
    {
     "data": {
      "text/plain": [
       "DAY_OF_MONTH                0\n",
       "DAY_OF_WEEK                 0\n",
       "FL_DATE                     0\n",
       "MKT_UNIQUE_CARRIER          0\n",
       "OP_UNIQUE_CARRIER           0\n",
       "TAIL_NUM                    0\n",
       "ORIGIN_AIRPORT_ID           0\n",
       "ORIGIN_STATE_ABR            0\n",
       "DEST_AIRPORT_ID             0\n",
       "DEST_STATE_ABR              0\n",
       "CRS_DEP_TIME                0\n",
       "DEP_TIME                    0\n",
       "DEP_DELAY                   0\n",
       "DEP_DELAY_GROUP             0\n",
       "TAXI_OUT                    0\n",
       "WHEELS_OFF                  0\n",
       "WHEELS_ON                   2\n",
       "TAXI_IN                     2\n",
       "CRS_ARR_TIME                0\n",
       "ARR_TIME                    0\n",
       "ARR_DELAY                 960\n",
       "ARR_DELAY_GROUP           960\n",
       "DIVERTED                    0\n",
       "CRS_ELAPSED_TIME            0\n",
       "ACTUAL_ELAPSED_TIME       960\n",
       "AIR_TIME                  960\n",
       "FLIGHTS                     0\n",
       "DISTANCE                    0\n",
       "DISTANCE_GROUP              0\n",
       "CARRIER_DELAY          425339\n",
       "WEATHER_DELAY          425339\n",
       "NAS_DELAY              425339\n",
       "SECURITY_DELAY         425339\n",
       "LATE_AIRCRAFT_DELAY    425339\n",
       "dtype: int64"
      ]
     },
     "execution_count": 6,
     "metadata": {},
     "output_type": "execute_result"
    }
   ],
   "source": [
    "df=df.drop(df.loc[df['ARR_TIME'].isnull()].index)\n",
    "df.isnull().sum()"
   ]
  },
  {
   "cell_type": "code",
   "execution_count": 7,
   "id": "5960b19e",
   "metadata": {},
   "outputs": [],
   "source": [
    "df=df.drop(df.loc[df['WHEELS_ON'].isnull()].index)"
   ]
  },
  {
   "cell_type": "markdown",
   "id": "a5bbbda1",
   "metadata": {},
   "source": [
    "We found that there are 958 flights with actual departure and arrival times but missing delay time, so we filled in the missing values for 'ARR_DELAY' by subtracting actual departure time from actual arrival time."
   ]
  },
  {
   "cell_type": "code",
   "execution_count": 8,
   "id": "51a38ee7",
   "metadata": {},
   "outputs": [
    {
     "name": "stdout",
     "output_type": "stream",
     "text": [
      "<class 'pandas.core.frame.DataFrame'>\n",
      "Int64Index: 958 entries, 153 to 559402\n",
      "Data columns (total 34 columns):\n",
      " #   Column               Non-Null Count  Dtype  \n",
      "---  ------               --------------  -----  \n",
      " 0   DAY_OF_MONTH         958 non-null    int64  \n",
      " 1   DAY_OF_WEEK          958 non-null    int64  \n",
      " 2   FL_DATE              958 non-null    object \n",
      " 3   MKT_UNIQUE_CARRIER   958 non-null    object \n",
      " 4   OP_UNIQUE_CARRIER    958 non-null    object \n",
      " 5   TAIL_NUM             958 non-null    object \n",
      " 6   ORIGIN_AIRPORT_ID    958 non-null    int64  \n",
      " 7   ORIGIN_STATE_ABR     958 non-null    object \n",
      " 8   DEST_AIRPORT_ID      958 non-null    int64  \n",
      " 9   DEST_STATE_ABR       958 non-null    object \n",
      " 10  CRS_DEP_TIME         958 non-null    int64  \n",
      " 11  DEP_TIME             958 non-null    float64\n",
      " 12  DEP_DELAY            958 non-null    float64\n",
      " 13  DEP_DELAY_GROUP      958 non-null    float64\n",
      " 14  TAXI_OUT             958 non-null    float64\n",
      " 15  WHEELS_OFF           958 non-null    float64\n",
      " 16  WHEELS_ON            958 non-null    float64\n",
      " 17  TAXI_IN              958 non-null    float64\n",
      " 18  CRS_ARR_TIME         958 non-null    int64  \n",
      " 19  ARR_TIME             958 non-null    float64\n",
      " 20  ARR_DELAY            0 non-null      float64\n",
      " 21  ARR_DELAY_GROUP      0 non-null      float64\n",
      " 22  DIVERTED             958 non-null    int64  \n",
      " 23  CRS_ELAPSED_TIME     958 non-null    int64  \n",
      " 24  ACTUAL_ELAPSED_TIME  0 non-null      float64\n",
      " 25  AIR_TIME             0 non-null      float64\n",
      " 26  FLIGHTS              958 non-null    int64  \n",
      " 27  DISTANCE             958 non-null    int64  \n",
      " 28  DISTANCE_GROUP       958 non-null    int64  \n",
      " 29  CARRIER_DELAY        0 non-null      float64\n",
      " 30  WEATHER_DELAY        0 non-null      float64\n",
      " 31  NAS_DELAY            0 non-null      float64\n",
      " 32  SECURITY_DELAY       0 non-null      float64\n",
      " 33  LATE_AIRCRAFT_DELAY  0 non-null      float64\n",
      "dtypes: float64(17), int64(11), object(6)\n",
      "memory usage: 262.0+ KB\n"
     ]
    }
   ],
   "source": [
    "Miss_Delay=df.loc[df['ARR_DELAY'].isnull()]\n",
    "Miss_Delay.info()"
   ]
  },
  {
   "cell_type": "code",
   "execution_count": 9,
   "id": "2ce74620",
   "metadata": {},
   "outputs": [
    {
     "data": {
      "text/html": [
       "<div>\n",
       "<style scoped>\n",
       "    .dataframe tbody tr th:only-of-type {\n",
       "        vertical-align: middle;\n",
       "    }\n",
       "\n",
       "    .dataframe tbody tr th {\n",
       "        vertical-align: top;\n",
       "    }\n",
       "\n",
       "    .dataframe thead th {\n",
       "        text-align: right;\n",
       "    }\n",
       "</style>\n",
       "<table border=\"1\" class=\"dataframe\">\n",
       "  <thead>\n",
       "    <tr style=\"text-align: right;\">\n",
       "      <th></th>\n",
       "      <th>CRS_ARR_TIME</th>\n",
       "      <th>ARR_TIME</th>\n",
       "    </tr>\n",
       "  </thead>\n",
       "  <tbody>\n",
       "    <tr>\n",
       "      <th>153</th>\n",
       "      <td>1218</td>\n",
       "      <td>1537.0</td>\n",
       "    </tr>\n",
       "    <tr>\n",
       "      <th>578</th>\n",
       "      <td>1700</td>\n",
       "      <td>2008.0</td>\n",
       "    </tr>\n",
       "    <tr>\n",
       "      <th>1116</th>\n",
       "      <td>1038</td>\n",
       "      <td>1800.0</td>\n",
       "    </tr>\n",
       "    <tr>\n",
       "      <th>1487</th>\n",
       "      <td>2241</td>\n",
       "      <td>204.0</td>\n",
       "    </tr>\n",
       "    <tr>\n",
       "      <th>1562</th>\n",
       "      <td>941</td>\n",
       "      <td>1520.0</td>\n",
       "    </tr>\n",
       "  </tbody>\n",
       "</table>\n",
       "</div>"
      ],
      "text/plain": [
       "      CRS_ARR_TIME  ARR_TIME\n",
       "153           1218    1537.0\n",
       "578           1700    2008.0\n",
       "1116          1038    1800.0\n",
       "1487          2241     204.0\n",
       "1562           941    1520.0"
      ]
     },
     "execution_count": 9,
     "metadata": {},
     "output_type": "execute_result"
    }
   ],
   "source": [
    "#Extract columns 'CRS_ARR_TIME' and 'ARR_TIME' for calculation\n",
    "Miss_Delay=Miss_Delay[['CRS_ARR_TIME','ARR_TIME']]\n",
    "Miss_Delay.head()"
   ]
  },
  {
   "cell_type": "code",
   "execution_count": 10,
   "id": "6050a2cd",
   "metadata": {},
   "outputs": [
    {
     "data": {
      "text/html": [
       "<div>\n",
       "<style scoped>\n",
       "    .dataframe tbody tr th:only-of-type {\n",
       "        vertical-align: middle;\n",
       "    }\n",
       "\n",
       "    .dataframe tbody tr th {\n",
       "        vertical-align: top;\n",
       "    }\n",
       "\n",
       "    .dataframe thead th {\n",
       "        text-align: right;\n",
       "    }\n",
       "</style>\n",
       "<table border=\"1\" class=\"dataframe\">\n",
       "  <thead>\n",
       "    <tr style=\"text-align: right;\">\n",
       "      <th></th>\n",
       "      <th>CRS_ARR_TIME</th>\n",
       "      <th>ARR_TIME</th>\n",
       "    </tr>\n",
       "  </thead>\n",
       "  <tbody>\n",
       "    <tr>\n",
       "      <th>153</th>\n",
       "      <td>121800</td>\n",
       "      <td>153700</td>\n",
       "    </tr>\n",
       "    <tr>\n",
       "      <th>578</th>\n",
       "      <td>170000</td>\n",
       "      <td>200800</td>\n",
       "    </tr>\n",
       "    <tr>\n",
       "      <th>1116</th>\n",
       "      <td>103800</td>\n",
       "      <td>180000</td>\n",
       "    </tr>\n",
       "    <tr>\n",
       "      <th>1487</th>\n",
       "      <td>224100</td>\n",
       "      <td>20400</td>\n",
       "    </tr>\n",
       "    <tr>\n",
       "      <th>1562</th>\n",
       "      <td>94100</td>\n",
       "      <td>152000</td>\n",
       "    </tr>\n",
       "  </tbody>\n",
       "</table>\n",
       "</div>"
      ],
      "text/plain": [
       "     CRS_ARR_TIME ARR_TIME\n",
       "153        121800   153700\n",
       "578        170000   200800\n",
       "1116       103800   180000\n",
       "1487       224100    20400\n",
       "1562        94100   152000"
      ]
     },
     "execution_count": 10,
     "metadata": {},
     "output_type": "execute_result"
    }
   ],
   "source": [
    "#Convert to appropriate time format\n",
    "\n",
    "#convert float to integer\n",
    "Miss_Delay['ARR_TIME']=pd.to_numeric(Miss_Delay['ARR_TIME'],downcast='integer')\n",
    "\n",
    "#convert to string with the format of 'hour-min-sec'\n",
    "Miss_Delay['CRS_ARR_TIME']=Miss_Delay['CRS_ARR_TIME'].astype(str)\n",
    "Miss_Delay['ARR_TIME']=Miss_Delay['ARR_TIME'].astype(str)\n",
    "Miss_Delay['CRS_ARR_TIME']=Miss_Delay['CRS_ARR_TIME']+'00'\n",
    "Miss_Delay['ARR_TIME']=Miss_Delay['ARR_TIME']+'00'\n",
    "Miss_Delay.head()"
   ]
  },
  {
   "cell_type": "code",
   "execution_count": 11,
   "id": "0256ff13",
   "metadata": {},
   "outputs": [
    {
     "data": {
      "text/html": [
       "<div>\n",
       "<style scoped>\n",
       "    .dataframe tbody tr th:only-of-type {\n",
       "        vertical-align: middle;\n",
       "    }\n",
       "\n",
       "    .dataframe tbody tr th {\n",
       "        vertical-align: top;\n",
       "    }\n",
       "\n",
       "    .dataframe thead th {\n",
       "        text-align: right;\n",
       "    }\n",
       "</style>\n",
       "<table border=\"1\" class=\"dataframe\">\n",
       "  <thead>\n",
       "    <tr style=\"text-align: right;\">\n",
       "      <th></th>\n",
       "      <th>CRS_ARR_TIME</th>\n",
       "      <th>ARR_TIME</th>\n",
       "      <th>a</th>\n",
       "      <th>b</th>\n",
       "      <th>Delay</th>\n",
       "    </tr>\n",
       "  </thead>\n",
       "  <tbody>\n",
       "    <tr>\n",
       "      <th>153</th>\n",
       "      <td>121800</td>\n",
       "      <td>153700</td>\n",
       "      <td>1900-01-01 12:18:00</td>\n",
       "      <td>1900-01-01 15:37:00</td>\n",
       "      <td>0 days 03:19:00</td>\n",
       "    </tr>\n",
       "    <tr>\n",
       "      <th>578</th>\n",
       "      <td>170000</td>\n",
       "      <td>200800</td>\n",
       "      <td>1900-01-01 17:00:00</td>\n",
       "      <td>1900-01-01 20:08:00</td>\n",
       "      <td>0 days 03:08:00</td>\n",
       "    </tr>\n",
       "    <tr>\n",
       "      <th>1116</th>\n",
       "      <td>103800</td>\n",
       "      <td>180000</td>\n",
       "      <td>1900-01-01 10:38:00</td>\n",
       "      <td>1900-01-01 18:00:00</td>\n",
       "      <td>0 days 07:22:00</td>\n",
       "    </tr>\n",
       "    <tr>\n",
       "      <th>1487</th>\n",
       "      <td>224100</td>\n",
       "      <td>20400</td>\n",
       "      <td>1900-01-01 22:41:00</td>\n",
       "      <td>1900-01-01 20:40:00</td>\n",
       "      <td>-1 days +21:59:00</td>\n",
       "    </tr>\n",
       "    <tr>\n",
       "      <th>1562</th>\n",
       "      <td>94100</td>\n",
       "      <td>152000</td>\n",
       "      <td>1900-01-01 09:41:00</td>\n",
       "      <td>1900-01-01 15:20:00</td>\n",
       "      <td>0 days 05:39:00</td>\n",
       "    </tr>\n",
       "  </tbody>\n",
       "</table>\n",
       "</div>"
      ],
      "text/plain": [
       "     CRS_ARR_TIME ARR_TIME                   a                   b  \\\n",
       "153        121800   153700 1900-01-01 12:18:00 1900-01-01 15:37:00   \n",
       "578        170000   200800 1900-01-01 17:00:00 1900-01-01 20:08:00   \n",
       "1116       103800   180000 1900-01-01 10:38:00 1900-01-01 18:00:00   \n",
       "1487       224100    20400 1900-01-01 22:41:00 1900-01-01 20:40:00   \n",
       "1562        94100   152000 1900-01-01 09:41:00 1900-01-01 15:20:00   \n",
       "\n",
       "                 Delay  \n",
       "153    0 days 03:19:00  \n",
       "578    0 days 03:08:00  \n",
       "1116   0 days 07:22:00  \n",
       "1487 -1 days +21:59:00  \n",
       "1562   0 days 05:39:00  "
      ]
     },
     "execution_count": 11,
     "metadata": {},
     "output_type": "execute_result"
    }
   ],
   "source": [
    "#convert to standard time format which can be used for calculation\n",
    "Miss_Delay['a']=pd.to_datetime(Miss_Delay['CRS_ARR_TIME'],format='%H%M%S')\n",
    "Miss_Delay['b']=pd.to_datetime(Miss_Delay['ARR_TIME'],format='%H%M%S')\n",
    "\n",
    "#calculate delay time\n",
    "Miss_Delay['Delay']=Miss_Delay['b']-Miss_Delay['a']\n",
    "Miss_Delay.head()"
   ]
  },
  {
   "cell_type": "code",
   "execution_count": 12,
   "id": "a8b3c615",
   "metadata": {},
   "outputs": [
    {
     "data": {
      "text/html": [
       "<div>\n",
       "<style scoped>\n",
       "    .dataframe tbody tr th:only-of-type {\n",
       "        vertical-align: middle;\n",
       "    }\n",
       "\n",
       "    .dataframe tbody tr th {\n",
       "        vertical-align: top;\n",
       "    }\n",
       "\n",
       "    .dataframe thead th {\n",
       "        text-align: right;\n",
       "    }\n",
       "</style>\n",
       "<table border=\"1\" class=\"dataframe\">\n",
       "  <thead>\n",
       "    <tr style=\"text-align: right;\">\n",
       "      <th></th>\n",
       "      <th>e</th>\n",
       "    </tr>\n",
       "  </thead>\n",
       "  <tbody>\n",
       "    <tr>\n",
       "      <th>153</th>\n",
       "      <td>199.0</td>\n",
       "    </tr>\n",
       "    <tr>\n",
       "      <th>578</th>\n",
       "      <td>188.0</td>\n",
       "    </tr>\n",
       "    <tr>\n",
       "      <th>1116</th>\n",
       "      <td>442.0</td>\n",
       "    </tr>\n",
       "    <tr>\n",
       "      <th>1487</th>\n",
       "      <td>-121.0</td>\n",
       "    </tr>\n",
       "    <tr>\n",
       "      <th>1562</th>\n",
       "      <td>339.0</td>\n",
       "    </tr>\n",
       "  </tbody>\n",
       "</table>\n",
       "</div>"
      ],
      "text/plain": [
       "          e\n",
       "153   199.0\n",
       "578   188.0\n",
       "1116  442.0\n",
       "1487 -121.0\n",
       "1562  339.0"
      ]
     },
     "execution_count": 12,
     "metadata": {},
     "output_type": "execute_result"
    }
   ],
   "source": [
    "#Convert the result to a minute-based format\n",
    "Miss_Delay['d']=[d.days*86400+d.seconds for d in Miss_Delay['Delay'] ]\n",
    "Miss_Delay['e']=Miss_Delay['d']/60\n",
    "Miss_Delay=Miss_Delay.drop(columns=['CRS_ARR_TIME','ARR_TIME','a','b','Delay','d'])\n",
    "Miss_Delay.head()"
   ]
  },
  {
   "cell_type": "markdown",
   "id": "ad12dfed",
   "metadata": {},
   "source": [
    "After completing the calculation, we use it to replace the missing values in the original dataset. Additionally, the 'ARR_DELAY_GROUP' is divided into 15 minute intervals. So we will continue to fill in the missing values in the delay time group based on the delay time."
   ]
  },
  {
   "cell_type": "code",
   "execution_count": 13,
   "id": "dc6765e1",
   "metadata": {},
   "outputs": [
    {
     "data": {
      "text/html": [
       "<div>\n",
       "<style scoped>\n",
       "    .dataframe tbody tr th:only-of-type {\n",
       "        vertical-align: middle;\n",
       "    }\n",
       "\n",
       "    .dataframe tbody tr th {\n",
       "        vertical-align: top;\n",
       "    }\n",
       "\n",
       "    .dataframe thead th {\n",
       "        text-align: right;\n",
       "    }\n",
       "</style>\n",
       "<table border=\"1\" class=\"dataframe\">\n",
       "  <thead>\n",
       "    <tr style=\"text-align: right;\">\n",
       "      <th></th>\n",
       "      <th>e</th>\n",
       "      <th>group</th>\n",
       "    </tr>\n",
       "  </thead>\n",
       "  <tbody>\n",
       "    <tr>\n",
       "      <th>153</th>\n",
       "      <td>199.0</td>\n",
       "      <td>13.0</td>\n",
       "    </tr>\n",
       "    <tr>\n",
       "      <th>578</th>\n",
       "      <td>188.0</td>\n",
       "      <td>12.0</td>\n",
       "    </tr>\n",
       "    <tr>\n",
       "      <th>1116</th>\n",
       "      <td>442.0</td>\n",
       "      <td>29.0</td>\n",
       "    </tr>\n",
       "    <tr>\n",
       "      <th>1487</th>\n",
       "      <td>-121.0</td>\n",
       "      <td>-9.0</td>\n",
       "    </tr>\n",
       "    <tr>\n",
       "      <th>1562</th>\n",
       "      <td>339.0</td>\n",
       "      <td>22.0</td>\n",
       "    </tr>\n",
       "  </tbody>\n",
       "</table>\n",
       "</div>"
      ],
      "text/plain": [
       "          e  group\n",
       "153   199.0   13.0\n",
       "578   188.0   12.0\n",
       "1116  442.0   29.0\n",
       "1487 -121.0   -9.0\n",
       "1562  339.0   22.0"
      ]
     },
     "execution_count": 13,
     "metadata": {},
     "output_type": "execute_result"
    }
   ],
   "source": [
    "#fill in 'ARR_DELAY'\n",
    "df['ARR_DELAY'].fillna(Miss_Delay['e'],inplace=True)\n",
    "\n",
    "#calculate 'ARR_DELAY_GROUP'\n",
    "for index,row in Miss_Delay.iterrows():\n",
    "    Miss_Delay['group']=Miss_Delay['e']//15\n",
    "Miss_Delay.head()"
   ]
  },
  {
   "cell_type": "code",
   "execution_count": 14,
   "id": "a75d03e0",
   "metadata": {},
   "outputs": [
    {
     "data": {
      "text/plain": [
       "DAY_OF_MONTH                0\n",
       "DAY_OF_WEEK                 0\n",
       "FL_DATE                     0\n",
       "MKT_UNIQUE_CARRIER          0\n",
       "OP_UNIQUE_CARRIER           0\n",
       "TAIL_NUM                    0\n",
       "ORIGIN_AIRPORT_ID           0\n",
       "ORIGIN_STATE_ABR            0\n",
       "DEST_AIRPORT_ID             0\n",
       "DEST_STATE_ABR              0\n",
       "CRS_DEP_TIME                0\n",
       "DEP_TIME                    0\n",
       "DEP_DELAY                   0\n",
       "DEP_DELAY_GROUP             0\n",
       "TAXI_OUT                    0\n",
       "WHEELS_OFF                  0\n",
       "WHEELS_ON                   0\n",
       "TAXI_IN                     0\n",
       "CRS_ARR_TIME                0\n",
       "ARR_TIME                    0\n",
       "ARR_DELAY                   0\n",
       "ARR_DELAY_GROUP             0\n",
       "DIVERTED                    0\n",
       "CRS_ELAPSED_TIME            0\n",
       "ACTUAL_ELAPSED_TIME       958\n",
       "AIR_TIME                  958\n",
       "FLIGHTS                     0\n",
       "DISTANCE                    0\n",
       "DISTANCE_GROUP              0\n",
       "CARRIER_DELAY          425337\n",
       "WEATHER_DELAY          425337\n",
       "NAS_DELAY              425337\n",
       "SECURITY_DELAY         425337\n",
       "LATE_AIRCRAFT_DELAY    425337\n",
       "dtype: int64"
      ]
     },
     "execution_count": 14,
     "metadata": {},
     "output_type": "execute_result"
    }
   ],
   "source": [
    "#replace missing values in the original dataset\n",
    "df['ARR_DELAY_GROUP'].fillna(Miss_Delay['group'],inplace=True)\n",
    "df.isnull().sum()"
   ]
  },
  {
   "cell_type": "markdown",
   "id": "62fab1ed",
   "metadata": {},
   "source": [
    "### Adding features"
   ]
  },
  {
   "cell_type": "markdown",
   "id": "ce895e8a",
   "metadata": {},
   "source": [
    "Since we are ultimately aimed at determining whether there will be a delay, and the delay time has numerous categories even though seen as a group variable, we add two variables to indicate whether the departure is delayed and whether the arrival is delayed. A delay greater than 15 minutes (that is, the delay grouping is greater than 1) is considered a delay, and the variable is 1, while a delay of less than 15 minutes is considered no delay."
   ]
  },
  {
   "cell_type": "code",
   "execution_count": 15,
   "id": "ec0f9f6e",
   "metadata": {},
   "outputs": [
    {
     "data": {
      "text/html": [
       "<div>\n",
       "<style scoped>\n",
       "    .dataframe tbody tr th:only-of-type {\n",
       "        vertical-align: middle;\n",
       "    }\n",
       "\n",
       "    .dataframe tbody tr th {\n",
       "        vertical-align: top;\n",
       "    }\n",
       "\n",
       "    .dataframe thead th {\n",
       "        text-align: right;\n",
       "    }\n",
       "</style>\n",
       "<table border=\"1\" class=\"dataframe\">\n",
       "  <thead>\n",
       "    <tr style=\"text-align: right;\">\n",
       "      <th></th>\n",
       "      <th>DAY_OF_MONTH</th>\n",
       "      <th>DAY_OF_WEEK</th>\n",
       "      <th>ORIGIN_AIRPORT_ID</th>\n",
       "      <th>DEST_AIRPORT_ID</th>\n",
       "      <th>CRS_DEP_TIME</th>\n",
       "      <th>DEP_TIME</th>\n",
       "      <th>DEP_DELAY</th>\n",
       "      <th>DEP_DELAY_GROUP</th>\n",
       "      <th>TAXI_OUT</th>\n",
       "      <th>WHEELS_OFF</th>\n",
       "      <th>...</th>\n",
       "      <th>FLIGHTS</th>\n",
       "      <th>DISTANCE</th>\n",
       "      <th>DISTANCE_GROUP</th>\n",
       "      <th>CARRIER_DELAY</th>\n",
       "      <th>WEATHER_DELAY</th>\n",
       "      <th>NAS_DELAY</th>\n",
       "      <th>SECURITY_DELAY</th>\n",
       "      <th>LATE_AIRCRAFT_DELAY</th>\n",
       "      <th>if_arr_delay</th>\n",
       "      <th>if_dep_delay</th>\n",
       "    </tr>\n",
       "  </thead>\n",
       "  <tbody>\n",
       "    <tr>\n",
       "      <th>count</th>\n",
       "      <td>527852.000000</td>\n",
       "      <td>527852.000000</td>\n",
       "      <td>527852.000000</td>\n",
       "      <td>527852.000000</td>\n",
       "      <td>527852.000000</td>\n",
       "      <td>527852.000000</td>\n",
       "      <td>527852.000000</td>\n",
       "      <td>527852.000000</td>\n",
       "      <td>527852.000000</td>\n",
       "      <td>527852.000000</td>\n",
       "      <td>...</td>\n",
       "      <td>527852.0</td>\n",
       "      <td>527852.000000</td>\n",
       "      <td>527852.000000</td>\n",
       "      <td>102515.000000</td>\n",
       "      <td>102515.000000</td>\n",
       "      <td>102515.000000</td>\n",
       "      <td>102515.000000</td>\n",
       "      <td>102515.000000</td>\n",
       "      <td>527852.000000</td>\n",
       "      <td>527852.000000</td>\n",
       "    </tr>\n",
       "    <tr>\n",
       "      <th>mean</th>\n",
       "      <td>16.190874</td>\n",
       "      <td>4.009503</td>\n",
       "      <td>12662.293556</td>\n",
       "      <td>12662.861310</td>\n",
       "      <td>1326.973828</td>\n",
       "      <td>1332.999877</td>\n",
       "      <td>11.055716</td>\n",
       "      <td>0.098372</td>\n",
       "      <td>17.582574</td>\n",
       "      <td>1357.153384</td>\n",
       "      <td>...</td>\n",
       "      <td>1.0</td>\n",
       "      <td>803.972487</td>\n",
       "      <td>3.687390</td>\n",
       "      <td>31.205219</td>\n",
       "      <td>4.152797</td>\n",
       "      <td>10.261825</td>\n",
       "      <td>0.121046</td>\n",
       "      <td>23.441438</td>\n",
       "      <td>0.195644</td>\n",
       "      <td>0.196309</td>\n",
       "    </tr>\n",
       "    <tr>\n",
       "      <th>std</th>\n",
       "      <td>8.877857</td>\n",
       "      <td>2.075675</td>\n",
       "      <td>1519.012051</td>\n",
       "      <td>1519.253099</td>\n",
       "      <td>480.560673</td>\n",
       "      <td>491.945471</td>\n",
       "      <td>50.568411</td>\n",
       "      <td>2.293980</td>\n",
       "      <td>10.296843</td>\n",
       "      <td>492.590698</td>\n",
       "      <td>...</td>\n",
       "      <td>0.0</td>\n",
       "      <td>590.265800</td>\n",
       "      <td>2.311591</td>\n",
       "      <td>75.943223</td>\n",
       "      <td>32.425010</td>\n",
       "      <td>24.147807</td>\n",
       "      <td>3.423059</td>\n",
       "      <td>53.121534</td>\n",
       "      <td>0.396696</td>\n",
       "      <td>0.397205</td>\n",
       "    </tr>\n",
       "    <tr>\n",
       "      <th>min</th>\n",
       "      <td>1.000000</td>\n",
       "      <td>1.000000</td>\n",
       "      <td>10135.000000</td>\n",
       "      <td>10135.000000</td>\n",
       "      <td>1.000000</td>\n",
       "      <td>1.000000</td>\n",
       "      <td>-55.000000</td>\n",
       "      <td>-2.000000</td>\n",
       "      <td>1.000000</td>\n",
       "      <td>1.000000</td>\n",
       "      <td>...</td>\n",
       "      <td>1.0</td>\n",
       "      <td>31.000000</td>\n",
       "      <td>1.000000</td>\n",
       "      <td>0.000000</td>\n",
       "      <td>0.000000</td>\n",
       "      <td>0.000000</td>\n",
       "      <td>0.000000</td>\n",
       "      <td>0.000000</td>\n",
       "      <td>0.000000</td>\n",
       "      <td>0.000000</td>\n",
       "    </tr>\n",
       "    <tr>\n",
       "      <th>25%</th>\n",
       "      <td>9.000000</td>\n",
       "      <td>2.000000</td>\n",
       "      <td>11292.000000</td>\n",
       "      <td>11292.000000</td>\n",
       "      <td>920.000000</td>\n",
       "      <td>927.000000</td>\n",
       "      <td>-6.000000</td>\n",
       "      <td>-1.000000</td>\n",
       "      <td>11.000000</td>\n",
       "      <td>944.000000</td>\n",
       "      <td>...</td>\n",
       "      <td>1.0</td>\n",
       "      <td>370.000000</td>\n",
       "      <td>2.000000</td>\n",
       "      <td>0.000000</td>\n",
       "      <td>0.000000</td>\n",
       "      <td>0.000000</td>\n",
       "      <td>0.000000</td>\n",
       "      <td>0.000000</td>\n",
       "      <td>0.000000</td>\n",
       "      <td>0.000000</td>\n",
       "    </tr>\n",
       "    <tr>\n",
       "      <th>50%</th>\n",
       "      <td>16.000000</td>\n",
       "      <td>4.000000</td>\n",
       "      <td>12889.000000</td>\n",
       "      <td>12889.000000</td>\n",
       "      <td>1320.000000</td>\n",
       "      <td>1327.000000</td>\n",
       "      <td>-3.000000</td>\n",
       "      <td>-1.000000</td>\n",
       "      <td>15.000000</td>\n",
       "      <td>1341.000000</td>\n",
       "      <td>...</td>\n",
       "      <td>1.0</td>\n",
       "      <td>651.000000</td>\n",
       "      <td>3.000000</td>\n",
       "      <td>10.000000</td>\n",
       "      <td>0.000000</td>\n",
       "      <td>0.000000</td>\n",
       "      <td>0.000000</td>\n",
       "      <td>0.000000</td>\n",
       "      <td>0.000000</td>\n",
       "      <td>0.000000</td>\n",
       "    </tr>\n",
       "    <tr>\n",
       "      <th>75%</th>\n",
       "      <td>24.000000</td>\n",
       "      <td>6.000000</td>\n",
       "      <td>14027.000000</td>\n",
       "      <td>14027.000000</td>\n",
       "      <td>1726.000000</td>\n",
       "      <td>1734.000000</td>\n",
       "      <td>8.000000</td>\n",
       "      <td>0.000000</td>\n",
       "      <td>20.000000</td>\n",
       "      <td>1749.000000</td>\n",
       "      <td>...</td>\n",
       "      <td>1.0</td>\n",
       "      <td>1048.000000</td>\n",
       "      <td>5.000000</td>\n",
       "      <td>33.000000</td>\n",
       "      <td>0.000000</td>\n",
       "      <td>15.000000</td>\n",
       "      <td>0.000000</td>\n",
       "      <td>27.000000</td>\n",
       "      <td>0.000000</td>\n",
       "      <td>0.000000</td>\n",
       "    </tr>\n",
       "    <tr>\n",
       "      <th>max</th>\n",
       "      <td>31.000000</td>\n",
       "      <td>7.000000</td>\n",
       "      <td>16869.000000</td>\n",
       "      <td>16869.000000</td>\n",
       "      <td>2359.000000</td>\n",
       "      <td>2400.000000</td>\n",
       "      <td>2512.000000</td>\n",
       "      <td>12.000000</td>\n",
       "      <td>193.000000</td>\n",
       "      <td>2400.000000</td>\n",
       "      <td>...</td>\n",
       "      <td>1.0</td>\n",
       "      <td>5095.000000</td>\n",
       "      <td>11.000000</td>\n",
       "      <td>2512.000000</td>\n",
       "      <td>1665.000000</td>\n",
       "      <td>1294.000000</td>\n",
       "      <td>625.000000</td>\n",
       "      <td>2098.000000</td>\n",
       "      <td>1.000000</td>\n",
       "      <td>1.000000</td>\n",
       "    </tr>\n",
       "  </tbody>\n",
       "</table>\n",
       "<p>8 rows × 30 columns</p>\n",
       "</div>"
      ],
      "text/plain": [
       "        DAY_OF_MONTH    DAY_OF_WEEK  ORIGIN_AIRPORT_ID  DEST_AIRPORT_ID  \\\n",
       "count  527852.000000  527852.000000      527852.000000    527852.000000   \n",
       "mean       16.190874       4.009503       12662.293556     12662.861310   \n",
       "std         8.877857       2.075675        1519.012051      1519.253099   \n",
       "min         1.000000       1.000000       10135.000000     10135.000000   \n",
       "25%         9.000000       2.000000       11292.000000     11292.000000   \n",
       "50%        16.000000       4.000000       12889.000000     12889.000000   \n",
       "75%        24.000000       6.000000       14027.000000     14027.000000   \n",
       "max        31.000000       7.000000       16869.000000     16869.000000   \n",
       "\n",
       "        CRS_DEP_TIME       DEP_TIME      DEP_DELAY  DEP_DELAY_GROUP  \\\n",
       "count  527852.000000  527852.000000  527852.000000    527852.000000   \n",
       "mean     1326.973828    1332.999877      11.055716         0.098372   \n",
       "std       480.560673     491.945471      50.568411         2.293980   \n",
       "min         1.000000       1.000000     -55.000000        -2.000000   \n",
       "25%       920.000000     927.000000      -6.000000        -1.000000   \n",
       "50%      1320.000000    1327.000000      -3.000000        -1.000000   \n",
       "75%      1726.000000    1734.000000       8.000000         0.000000   \n",
       "max      2359.000000    2400.000000    2512.000000        12.000000   \n",
       "\n",
       "            TAXI_OUT     WHEELS_OFF  ...   FLIGHTS       DISTANCE  \\\n",
       "count  527852.000000  527852.000000  ...  527852.0  527852.000000   \n",
       "mean       17.582574    1357.153384  ...       1.0     803.972487   \n",
       "std        10.296843     492.590698  ...       0.0     590.265800   \n",
       "min         1.000000       1.000000  ...       1.0      31.000000   \n",
       "25%        11.000000     944.000000  ...       1.0     370.000000   \n",
       "50%        15.000000    1341.000000  ...       1.0     651.000000   \n",
       "75%        20.000000    1749.000000  ...       1.0    1048.000000   \n",
       "max       193.000000    2400.000000  ...       1.0    5095.000000   \n",
       "\n",
       "       DISTANCE_GROUP  CARRIER_DELAY  WEATHER_DELAY      NAS_DELAY  \\\n",
       "count   527852.000000  102515.000000  102515.000000  102515.000000   \n",
       "mean         3.687390      31.205219       4.152797      10.261825   \n",
       "std          2.311591      75.943223      32.425010      24.147807   \n",
       "min          1.000000       0.000000       0.000000       0.000000   \n",
       "25%          2.000000       0.000000       0.000000       0.000000   \n",
       "50%          3.000000      10.000000       0.000000       0.000000   \n",
       "75%          5.000000      33.000000       0.000000      15.000000   \n",
       "max         11.000000    2512.000000    1665.000000    1294.000000   \n",
       "\n",
       "       SECURITY_DELAY  LATE_AIRCRAFT_DELAY   if_arr_delay   if_dep_delay  \n",
       "count   102515.000000        102515.000000  527852.000000  527852.000000  \n",
       "mean         0.121046            23.441438       0.195644       0.196309  \n",
       "std          3.423059            53.121534       0.396696       0.397205  \n",
       "min          0.000000             0.000000       0.000000       0.000000  \n",
       "25%          0.000000             0.000000       0.000000       0.000000  \n",
       "50%          0.000000             0.000000       0.000000       0.000000  \n",
       "75%          0.000000            27.000000       0.000000       0.000000  \n",
       "max        625.000000          2098.000000       1.000000       1.000000  \n",
       "\n",
       "[8 rows x 30 columns]"
      ]
     },
     "execution_count": 15,
     "metadata": {},
     "output_type": "execute_result"
    }
   ],
   "source": [
    "#identify whether the arrival is delayed\n",
    "df.loc[(df['ARR_DELAY_GROUP']>=1),'if_arr_delay']=1\n",
    "df.loc[(df['ARR_DELAY_GROUP']<1),'if_arr_delay']=0\n",
    "\n",
    "#identify whether the departure is delayed\n",
    "df.loc[(df['DEP_DELAY_GROUP']>=1),'if_dep_delay']=1\n",
    "df.loc[(df['DEP_DELAY_GROUP']<1),'if_dep_delay']=0\n",
    "\n",
    "df.describe()"
   ]
  },
  {
   "cell_type": "markdown",
   "id": "217017e6",
   "metadata": {},
   "source": [
    "# Data Visualization"
   ]
  },
  {
   "cell_type": "markdown",
   "id": "ff21552c",
   "metadata": {},
   "source": [
    "### The relationship between days of the week and delays"
   ]
  },
  {
   "cell_type": "markdown",
   "id": "d3637654",
   "metadata": {},
   "source": [
    "First, let's use a scatter plot and lineplot to see the distribution of delay groups for each day."
   ]
  },
  {
   "cell_type": "code",
   "execution_count": 48,
   "id": "72f0c10d",
   "metadata": {},
   "outputs": [
    {
     "data": {
      "text/plain": [
       "<AxesSubplot:xlabel='DAY_OF_WEEK', ylabel='ARR_DELAY_GROUP'>"
      ]
     },
     "execution_count": 48,
     "metadata": {},
     "output_type": "execute_result"
    },
    {
     "data": {
      "image/png": "[encoded data removed]",
      "text/plain": [
       "<Figure size 432x288 with 1 Axes>"
      ]
     },
     "metadata": {
      "needs_background": "light"
     },
     "output_type": "display_data"
    }
   ],
   "source": [
    "sns.stripplot(data=df,x='DAY_OF_WEEK',y='ARR_DELAY_GROUP',alpha=0.3)\n",
    "sns.boxplot(data=df,x='DAY_OF_WEEK',y='ARR_DELAY_GROUP')"
   ]
  },
  {
   "cell_type": "code",
   "execution_count": 17,
   "id": "82d08d8c",
   "metadata": {},
   "outputs": [
    {
     "data": {
      "text/plain": [
       "<AxesSubplot:xlabel='DAY_OF_WEEK', ylabel='ARR_DELAY_GROUP'>"
      ]
     },
     "execution_count": 17,
     "metadata": {},
     "output_type": "execute_result"
    },
    {
     "data": {
      "image/png": "[encoded data removed]",
      "text/plain": [
       "<Figure size 432x288 with 1 Axes>"
      ]
     },
     "metadata": {
      "needs_background": "light"
     },
     "output_type": "display_data"
    }
   ],
   "source": [
    "%matplotlib inline\n",
    "sns.lineplot(x='DAY_OF_WEEK',y='ARR_DELAY_GROUP',data=df)"
   ]
  },
  {
   "cell_type": "markdown",
   "id": "0d8bc6e0",
   "metadata": {},
   "source": [
    "According to the above two statistical charts, there are fewer delayed flights during the week (such as Tuesday and Wednesday), and weekend delays appear to be more severe, including Fridays close to the weekend and Mondays after the weekend. However, because there may be a high volume of travel on weekends, the number of flights is very high, and we continue to monitor total flight numbers and the average delay by observing the relationship of 'if_arr_delay' and 'DAY_OF_WEEK'."
   ]
  },
  {
   "cell_type": "code",
   "execution_count": 16,
   "id": "f5c3009a",
   "metadata": {},
   "outputs": [
    {
     "name": "stdout",
     "output_type": "stream",
     "text": [
      "DAY_OF_WEEK\n",
      "1    0.206062\n",
      "2    0.151351\n",
      "3    0.141505\n",
      "4    0.163306\n",
      "5    0.217986\n",
      "6    0.206608\n",
      "7    0.261424\n",
      "Name: if_arr_delay, dtype: float64\n"
     ]
    }
   ],
   "source": [
    "#calculate the possibility of delay each day\n",
    "week=df['if_arr_delay'].groupby(df['DAY_OF_WEEK']).mean()\n",
    "print(week)"
   ]
  },
  {
   "cell_type": "code",
   "execution_count": 54,
   "id": "7c1836e9",
   "metadata": {},
   "outputs": [
    {
     "data": {
      "image/png": "[encoded data removed]",
      "text/plain": [
       "<Figure size 1152x576 with 2 Axes>"
      ]
     },
     "metadata": {
      "needs_background": "light"
     },
     "output_type": "display_data"
    }
   ],
   "source": [
    "#visualize the total flights and possibility of delay each day\n",
    "\n",
    "weekdays = [u\"Mon\", u\"Tue\", u\"Wed\", u\"Thu\", u\"Fr\", u\"Sat\", u\"Sun\"]\n",
    "\n",
    "#create a chart with two lines\n",
    "plt.figure(figsize=(16,8))\n",
    "ax0 = plt.subplot(212)\n",
    "ax1 = ax0.twinx()\n",
    "\n",
    "#use red color to represent the possibility of delay\n",
    "line, = ax0.plot(range(1,8), df.groupby(\"DAY_OF_WEEK\").agg({\"if_arr_delay\": np.mean}), color='red')\n",
    "line.set_label(\"average delayed by weekday\")\n",
    "ax0.legend(bbox_to_anchor=(.17, -0.13), frameon = False)\n",
    "\n",
    "#use blue color to represent the total number of flights each day\n",
    "line2, = ax1.plot(range(1,8), list(df[\"DAY_OF_WEEK\"].value_counts().sort_index()), color='blue')\n",
    "line2.set_label(\"total flights by weekday\")\n",
    "ax1.legend(bbox_to_anchor=(.14, -0.22), frameon = False)\n",
    "\n",
    "#make some settings on the figure\n",
    "ax0.text(0.3, 0.195, 'avg delay', va='center', rotation='vertical')\n",
    "ax0.text(7.74, 0.195, 'total count of flight', va='center', rotation='vertical')\n",
    "plt.title(u\"Graph of delay grouped by weekdays\")\n",
    "plt.xticks(range(1,8), weekdays)\n",
    "plt.show()\n"
   ]
  },
  {
   "cell_type": "markdown",
   "id": "6eb221ac",
   "metadata": {},
   "source": [
    "### The relationship between states and delays"
   ]
  },
  {
   "cell_type": "markdown",
   "id": "5c83b12b",
   "metadata": {},
   "source": [
    "First, we calculated and plotted delays for each state as origin and destination."
   ]
  },
  {
   "cell_type": "code",
   "execution_count": 19,
   "id": "422c6354",
   "metadata": {},
   "outputs": [],
   "source": [
    "#how many arrival delays for each state\n",
    "arr_delay_counts=df.groupby('DEST_STATE_ABR').if_arr_delay.sum().sort_values(ascending=False)\n",
    "\n",
    "#how many departure delays for each state\n",
    "dep_delay_counts=df.groupby('ORIGIN_STATE_ABR').if_dep_delay.sum().sort_values(ascending=False)\n",
    "state_delay=pd.DataFrame([arr_delay_counts,dep_delay_counts]).T"
   ]
  },
  {
   "cell_type": "code",
   "execution_count": 20,
   "id": "19848774",
   "metadata": {},
   "outputs": [
    {
     "data": {
      "text/plain": [
       "<AxesSubplot:title={'center':'Number of delayed flights by state'}>"
      ]
     },
     "execution_count": 20,
     "metadata": {},
     "output_type": "execute_result"
    },
    {
     "data": {
      "image/png": "[encoded data removed]",
      "text/plain": [
       "<Figure size 1080x576 with 1 Axes>"
      ]
     },
     "metadata": {
      "needs_background": "light"
     },
     "output_type": "display_data"
    }
   ],
   "source": [
    "state_delay.plot(kind='bar',title='Number of delayed flights by state',figsize=(15,8))"
   ]
  },
  {
   "cell_type": "markdown",
   "id": "eb713f5d",
   "metadata": {},
   "source": [
    "However, given the different busy extents of each state, we calculated their delay ratio, which is the ratio of delayed flights to total flights, and so more accurately reflects the impact of different states on the likelihood of flight delays."
   ]
  },
  {
   "cell_type": "code",
   "execution_count": 21,
   "id": "49e9206d",
   "metadata": {},
   "outputs": [
    {
     "data": {
      "text/plain": [
       "<AxesSubplot:title={'center':'Delay ratio by state'}>"
      ]
     },
     "execution_count": 21,
     "metadata": {},
     "output_type": "execute_result"
    },
    {
     "data": {
      "image/png": "[encoded data removed]",
      "text/plain": [
       "<Figure size 1080x576 with 1 Axes>"
      ]
     },
     "metadata": {
      "needs_background": "light"
     },
     "output_type": "display_data"
    }
   ],
   "source": [
    "#calculate the number of flights in each state\n",
    "dest_flight_counts=df.groupby('DEST_STATE_ABR').size()\n",
    "dep_flight_counts=df.groupby('ORIGIN_STATE_ABR').size()\n",
    "flight_counts=pd.DataFrame([dest_flight_counts,dep_flight_counts]).T\n",
    "state_ratio = pd.concat([state_delay,flight_counts],axis=1)\n",
    "\n",
    "#calculate the ratio\n",
    "state_ratio['arr_ratio']=state_ratio['if_arr_delay']/state_ratio[0]\n",
    "state_ratio['dep_ratio']=state_ratio['if_dep_delay']/state_ratio[1]\n",
    "\n",
    "#visualization\n",
    "state_ratio=state_ratio[['arr_ratio','dep_ratio']]\n",
    "state_ratio.plot(kind='bar',title='Delay ratio by state',figsize=(15,8))"
   ]
  },
  {
   "cell_type": "markdown",
   "id": "573dfb92",
   "metadata": {},
   "source": [
    "### The relationship between carriers and delays"
   ]
  },
  {
   "cell_type": "markdown",
   "id": "a221306a",
   "metadata": {},
   "source": [
    "Due to the fact that different airlines provide varying levels of service, the delay rate varies as well. Let us begin by examining their respective delay numbers and rates."
   ]
  },
  {
   "cell_type": "code",
   "execution_count": 22,
   "id": "02644053",
   "metadata": {},
   "outputs": [
    {
     "data": {
      "text/html": [
       "<div>\n",
       "<style scoped>\n",
       "    .dataframe tbody tr th:only-of-type {\n",
       "        vertical-align: middle;\n",
       "    }\n",
       "\n",
       "    .dataframe tbody tr th {\n",
       "        vertical-align: top;\n",
       "    }\n",
       "\n",
       "    .dataframe thead th {\n",
       "        text-align: right;\n",
       "    }\n",
       "</style>\n",
       "<table border=\"1\" class=\"dataframe\">\n",
       "  <thead>\n",
       "    <tr style=\"text-align: right;\">\n",
       "      <th></th>\n",
       "      <th>if_arr_delay</th>\n",
       "      <th>if_dep_delay</th>\n",
       "      <th>Unnamed 0</th>\n",
       "    </tr>\n",
       "    <tr>\n",
       "      <th>MKT_UNIQUE_CARRIER</th>\n",
       "      <th></th>\n",
       "      <th></th>\n",
       "      <th></th>\n",
       "    </tr>\n",
       "  </thead>\n",
       "  <tbody>\n",
       "    <tr>\n",
       "      <th>AA</th>\n",
       "      <td>24147.0</td>\n",
       "      <td>23258.0</td>\n",
       "      <td>140782.0</td>\n",
       "    </tr>\n",
       "    <tr>\n",
       "      <th>UA</th>\n",
       "      <td>20759.0</td>\n",
       "      <td>21024.0</td>\n",
       "      <td>94856.0</td>\n",
       "    </tr>\n",
       "    <tr>\n",
       "      <th>DL</th>\n",
       "      <td>18593.0</td>\n",
       "      <td>17881.0</td>\n",
       "      <td>112198.0</td>\n",
       "    </tr>\n",
       "    <tr>\n",
       "      <th>WN</th>\n",
       "      <td>16819.0</td>\n",
       "      <td>19986.0</td>\n",
       "      <td>90954.0</td>\n",
       "    </tr>\n",
       "    <tr>\n",
       "      <th>AS</th>\n",
       "      <td>6328.0</td>\n",
       "      <td>5670.0</td>\n",
       "      <td>27735.0</td>\n",
       "    </tr>\n",
       "    <tr>\n",
       "      <th>B6</th>\n",
       "      <td>6179.0</td>\n",
       "      <td>6010.0</td>\n",
       "      <td>19235.0</td>\n",
       "    </tr>\n",
       "    <tr>\n",
       "      <th>NK</th>\n",
       "      <td>3946.0</td>\n",
       "      <td>3621.0</td>\n",
       "      <td>16953.0</td>\n",
       "    </tr>\n",
       "    <tr>\n",
       "      <th>F9</th>\n",
       "      <td>3145.0</td>\n",
       "      <td>3131.0</td>\n",
       "      <td>11502.0</td>\n",
       "    </tr>\n",
       "    <tr>\n",
       "      <th>G4</th>\n",
       "      <td>2277.0</td>\n",
       "      <td>2018.0</td>\n",
       "      <td>7987.0</td>\n",
       "    </tr>\n",
       "    <tr>\n",
       "      <th>HA</th>\n",
       "      <td>1078.0</td>\n",
       "      <td>1023.0</td>\n",
       "      <td>5650.0</td>\n",
       "    </tr>\n",
       "  </tbody>\n",
       "</table>\n",
       "</div>"
      ],
      "text/plain": [
       "                    if_arr_delay  if_dep_delay  Unnamed 0\n",
       "MKT_UNIQUE_CARRIER                                       \n",
       "AA                       24147.0       23258.0   140782.0\n",
       "UA                       20759.0       21024.0    94856.0\n",
       "DL                       18593.0       17881.0   112198.0\n",
       "WN                       16819.0       19986.0    90954.0\n",
       "AS                        6328.0        5670.0    27735.0\n",
       "B6                        6179.0        6010.0    19235.0\n",
       "NK                        3946.0        3621.0    16953.0\n",
       "F9                        3145.0        3131.0    11502.0\n",
       "G4                        2277.0        2018.0     7987.0\n",
       "HA                        1078.0        1023.0     5650.0"
      ]
     },
     "execution_count": 22,
     "metadata": {},
     "output_type": "execute_result"
    }
   ],
   "source": [
    "#the total number of delayed flights of each carrier\n",
    "arr_delay_counts1=df.groupby('MKT_UNIQUE_CARRIER').if_arr_delay.sum().sort_values(ascending=False)\n",
    "dep_delay_counts1=df.groupby('MKT_UNIQUE_CARRIER').if_dep_delay.sum().sort_values(ascending=False)\n",
    "flight_counts1=df.groupby('MKT_UNIQUE_CARRIER').size()\n",
    "carrier_delay=pd.DataFrame([arr_delay_counts1,dep_delay_counts1,flight_counts1]).T\n",
    "carrier_delay"
   ]
  },
  {
   "cell_type": "code",
   "execution_count": 23,
   "id": "b35153e9",
   "metadata": {},
   "outputs": [
    {
     "data": {
      "text/html": [
       "<div>\n",
       "<style scoped>\n",
       "    .dataframe tbody tr th:only-of-type {\n",
       "        vertical-align: middle;\n",
       "    }\n",
       "\n",
       "    .dataframe tbody tr th {\n",
       "        vertical-align: top;\n",
       "    }\n",
       "\n",
       "    .dataframe thead th {\n",
       "        text-align: right;\n",
       "    }\n",
       "</style>\n",
       "<table border=\"1\" class=\"dataframe\">\n",
       "  <thead>\n",
       "    <tr style=\"text-align: right;\">\n",
       "      <th></th>\n",
       "      <th>arr_ratio</th>\n",
       "      <th>dep_ratio</th>\n",
       "    </tr>\n",
       "    <tr>\n",
       "      <th>MKT_UNIQUE_CARRIER</th>\n",
       "      <th></th>\n",
       "      <th></th>\n",
       "    </tr>\n",
       "  </thead>\n",
       "  <tbody>\n",
       "    <tr>\n",
       "      <th>AA</th>\n",
       "      <td>0.171521</td>\n",
       "      <td>0.165206</td>\n",
       "    </tr>\n",
       "    <tr>\n",
       "      <th>UA</th>\n",
       "      <td>0.218848</td>\n",
       "      <td>0.221641</td>\n",
       "    </tr>\n",
       "    <tr>\n",
       "      <th>DL</th>\n",
       "      <td>0.165716</td>\n",
       "      <td>0.159370</td>\n",
       "    </tr>\n",
       "    <tr>\n",
       "      <th>WN</th>\n",
       "      <td>0.184918</td>\n",
       "      <td>0.219737</td>\n",
       "    </tr>\n",
       "    <tr>\n",
       "      <th>AS</th>\n",
       "      <td>0.228159</td>\n",
       "      <td>0.204435</td>\n",
       "    </tr>\n",
       "    <tr>\n",
       "      <th>B6</th>\n",
       "      <td>0.321237</td>\n",
       "      <td>0.312451</td>\n",
       "    </tr>\n",
       "    <tr>\n",
       "      <th>NK</th>\n",
       "      <td>0.232761</td>\n",
       "      <td>0.213591</td>\n",
       "    </tr>\n",
       "    <tr>\n",
       "      <th>F9</th>\n",
       "      <td>0.273431</td>\n",
       "      <td>0.272214</td>\n",
       "    </tr>\n",
       "    <tr>\n",
       "      <th>G4</th>\n",
       "      <td>0.285088</td>\n",
       "      <td>0.252661</td>\n",
       "    </tr>\n",
       "    <tr>\n",
       "      <th>HA</th>\n",
       "      <td>0.190796</td>\n",
       "      <td>0.181062</td>\n",
       "    </tr>\n",
       "  </tbody>\n",
       "</table>\n",
       "</div>"
      ],
      "text/plain": [
       "                    arr_ratio  dep_ratio\n",
       "MKT_UNIQUE_CARRIER                      \n",
       "AA                   0.171521   0.165206\n",
       "UA                   0.218848   0.221641\n",
       "DL                   0.165716   0.159370\n",
       "WN                   0.184918   0.219737\n",
       "AS                   0.228159   0.204435\n",
       "B6                   0.321237   0.312451\n",
       "NK                   0.232761   0.213591\n",
       "F9                   0.273431   0.272214\n",
       "G4                   0.285088   0.252661\n",
       "HA                   0.190796   0.181062"
      ]
     },
     "execution_count": 23,
     "metadata": {},
     "output_type": "execute_result"
    }
   ],
   "source": [
    "#the delay ratio of each carrier\n",
    "carrier_delay['arr_ratio']=carrier_delay['if_arr_delay']/carrier_delay['Unnamed 0']\n",
    "carrier_delay['dep_ratio']=carrier_delay['if_dep_delay']/carrier_delay['Unnamed 0']\n",
    "carrier_delay=carrier_delay[['arr_ratio','dep_ratio']]\n",
    "carrier_delay"
   ]
  },
  {
   "cell_type": "markdown",
   "id": "4130ee7d",
   "metadata": {},
   "source": [
    "We use a bar chart to show the departure and arrival delay rates for each carrier."
   ]
  },
  {
   "cell_type": "code",
   "execution_count": 24,
   "id": "adf98b43",
   "metadata": {},
   "outputs": [
    {
     "data": {
      "text/plain": [
       "<AxesSubplot:xlabel='MKT_UNIQUE_CARRIER'>"
      ]
     },
     "execution_count": 24,
     "metadata": {},
     "output_type": "execute_result"
    },
    {
     "data": {
      "image/png": "[encoded data removed]",
      "text/plain": [
       "<Figure size 432x288 with 1 Axes>"
      ]
     },
     "metadata": {
      "needs_background": "light"
     },
     "output_type": "display_data"
    }
   ],
   "source": [
    "carrier_delay.plot(kind='bar')"
   ]
  },
  {
   "cell_type": "markdown",
   "id": "dec8fbed",
   "metadata": {},
   "source": [
    "We use a scatter plot with a transparency of 0.2 to show the relationship between carriers and the delay extent. The denser it is, the more flights fall in this range, which can reflect the distribution."
   ]
  },
  {
   "cell_type": "code",
   "execution_count": 25,
   "id": "b3c61305",
   "metadata": {},
   "outputs": [
    {
     "data": {
      "text/plain": [
       "<matplotlib.collections.PathCollection at 0x7fdc709cf790>"
      ]
     },
     "execution_count": 25,
     "metadata": {},
     "output_type": "execute_result"
    },
    {
     "data": {
      "image/png": "[encoded data removed]",
      "text/plain": [
       "<Figure size 432x288 with 1 Axes>"
      ]
     },
     "metadata": {
      "needs_background": "light"
     },
     "output_type": "display_data"
    }
   ],
   "source": [
    "plt.scatter(data=df,x='MKT_UNIQUE_CARRIER',y='ARR_DELAY_GROUP',alpha=0.2)"
   ]
  },
  {
   "cell_type": "markdown",
   "id": "826679e7",
   "metadata": {},
   "source": [
    "### The relationship between distance and delays"
   ]
  },
  {
   "cell_type": "code",
   "execution_count": 26,
   "id": "ddb19cb9",
   "metadata": {},
   "outputs": [
    {
     "data": {
      "text/plain": [
       "<matplotlib.collections.PathCollection at 0x7fdcd4ddec40>"
      ]
     },
     "execution_count": 26,
     "metadata": {},
     "output_type": "execute_result"
    },
    {
     "data": {
      "image/png": "[encoded data removed]",
      "text/plain": [
       "<Figure size 432x288 with 1 Axes>"
      ]
     },
     "metadata": {
      "needs_background": "light"
     },
     "output_type": "display_data"
    }
   ],
   "source": [
    "plt.scatter(data=df,x='DISTANCE',y='ARR_DELAY',alpha=0.2)"
   ]
  },
  {
   "cell_type": "markdown",
   "id": "d2d5e128",
   "metadata": {},
   "source": [
    "Because the scatter plot above is not clear enough, we break it into two categories, no delay and delay, and plot the link between distance and flight number."
   ]
  },
  {
   "cell_type": "code",
   "execution_count": 27,
   "id": "294510d0",
   "metadata": {},
   "outputs": [
    {
     "data": {
      "image/png": "[encoded data removed]",
      "text/plain": [
       "<Figure size 720x432 with 1 Axes>"
      ]
     },
     "metadata": {
      "needs_background": "light"
     },
     "output_type": "display_data"
    }
   ],
   "source": [
    "plt.figure(figsize=(10,6))\n",
    "plt.hist(df['DISTANCE'][df['if_arr_delay'] == 0], bins=100, label=\"Not delayed\")\n",
    "plt.hist(df['DISTANCE'][df['if_arr_delay'] == 1], bins=100, label=\"Delayed\")\n",
    "plt.title(u\"Arrival delay on flight distance\")\n",
    "plt.xlabel(u\"Flight distance\")\n",
    "plt.ylabel(u\"Numbers of flights\")\n",
    "plt.legend()\n",
    "plt.show()"
   ]
  },
  {
   "cell_type": "markdown",
   "id": "93be80bc",
   "metadata": {},
   "source": [
    "### The relationship between various delay causes and delays"
   ]
  },
  {
   "cell_type": "code",
   "execution_count": 29,
   "id": "16827dfd",
   "metadata": {},
   "outputs": [],
   "source": [
    "df_delay=df[['DAY_OF_WEEK','MKT_UNIQUE_CARRIER','ORIGIN_STATE_ABR','DEST_STATE_ABR','DEP_DELAY_GROUP','ARR_DELAY_GROUP',\n",
    "              'DISTANCE','CARRIER_DELAY','WEATHER_DELAY','NAS_DELAY','SECURITY_DELAY','LATE_AIRCRAFT_DELAY']]"
   ]
  },
  {
   "cell_type": "code",
   "execution_count": 31,
   "id": "f0c7575d",
   "metadata": {},
   "outputs": [],
   "source": [
    "#find all delayed flights\n",
    "df_delay=df.loc[df['if_arr_delay']==1]"
   ]
  },
  {
   "cell_type": "code",
   "execution_count": 34,
   "id": "bf13ac11",
   "metadata": {},
   "outputs": [],
   "source": [
    "df_delay1=df_delay[['ARR_DELAY_GROUP','CARRIER_DELAY','WEATHER_DELAY','NAS_DELAY','SECURITY_DELAY','LATE_AIRCRAFT_DELAY']]"
   ]
  },
  {
   "cell_type": "code",
   "execution_count": 46,
   "id": "054446bd",
   "metadata": {},
   "outputs": [
    {
     "data": {
      "image/png": "[encoded data removed]",
      "text/plain": [
       "<Figure size 1440x864 with 2 Axes>"
      ]
     },
     "metadata": {
      "needs_background": "light"
     },
     "output_type": "display_data"
    }
   ],
   "source": [
    "#get the correlation coefficient matrix\n",
    "coef=df_delay1.corr(method='pearson')\n",
    "#show the matrix with a heatmap\n",
    "plt.figure(figsize=(20,12))\n",
    "sns.heatmap(df_delay1.corr() \n",
    "            ,xticklabels=coef.columns \n",
    "            ,yticklabels=coef.columns \n",
    "            ,cmap='RdYlGn'           \n",
    "             # cmap='YlGnBu'\n",
    "            ,center =0 \n",
    "            ,annot=True\n",
    ")\n",
    "plt.title('Matrix of correlation coefficients',fontsize=28)\n",
    "plt.xticks(fontsize=12,rotation=45,horizontalalignment='right')\n",
    "plt.yticks(fontsize=10)\n",
    "plt.show()"
   ]
  },
  {
   "cell_type": "markdown",
   "id": "ad5d1990",
   "metadata": {},
   "source": [
    "# Predictive Modelling"
   ]
  },
  {
   "cell_type": "markdown",
   "id": "326a3503",
   "metadata": {},
   "source": [
    "## Data Engineering"
   ]
  },
  {
   "cell_type": "markdown",
   "id": "bbda317a",
   "metadata": {},
   "source": [
    "Before developing a predictive model, we have to identify variables that may have an effect on aircraft delays based on the preceding analysis and then further transform them to a modelable and analyzeable format."
   ]
  },
  {
   "cell_type": "markdown",
   "id": "a91cc7cf",
   "metadata": {},
   "source": [
    "To begin with, based on the research above, we believe that day of week, origin, destination, carrier, departure time, departure delays, and the distance may all contribute to whether the aircraft is delayed. As a result, we begin by deleting additional superfluous variables."
   ]
  },
  {
   "cell_type": "code",
   "execution_count": 62,
   "id": "a57d2cbe",
   "metadata": {},
   "outputs": [],
   "source": [
    "df_model=df.drop(columns=['FL_DATE','OP_UNIQUE_CARRIER','TAIL_NUM','ORIGIN_AIRPORT_ID','DEST_AIRPORT_ID',\n",
    "                              'CRS_ELAPSED_TIME','ACTUAL_ELAPSED_TIME','DAY_OF_MONTH','DEP_DELAY','DEP_DELAY_GROUP',\n",
    "                              'WHEELS_OFF','WHEELS_ON','TAXI_IN','TAXI_OUT','CRS_ARR_TIME','ARR_TIME','ARR_DELAY',\n",
    "                              'ARR_DELAY_GROUP','DIVERTED','AIR_TIME','FLIGHTS','DISTANCE_GROUP',\n",
    "                         'CRS_DEP_TIME','DAY_OF_MONTH'])"
   ]
  },
  {
   "cell_type": "code",
   "execution_count": 63,
   "id": "d5eeee0b",
   "metadata": {},
   "outputs": [
    {
     "name": "stdout",
     "output_type": "stream",
     "text": [
      "<class 'pandas.core.frame.DataFrame'>\n",
      "Int64Index: 527852 entries, 0 to 563736\n",
      "Data columns (total 13 columns):\n",
      " #   Column               Non-Null Count   Dtype  \n",
      "---  ------               --------------   -----  \n",
      " 0   DAY_OF_WEEK          527852 non-null  int64  \n",
      " 1   MKT_UNIQUE_CARRIER   527852 non-null  object \n",
      " 2   ORIGIN_STATE_ABR     527852 non-null  object \n",
      " 3   DEST_STATE_ABR       527852 non-null  object \n",
      " 4   DEP_TIME             527852 non-null  float64\n",
      " 5   DISTANCE             527852 non-null  int64  \n",
      " 6   CARRIER_DELAY        102515 non-null  float64\n",
      " 7   WEATHER_DELAY        102515 non-null  float64\n",
      " 8   NAS_DELAY            102515 non-null  float64\n",
      " 9   SECURITY_DELAY       102515 non-null  float64\n",
      " 10  LATE_AIRCRAFT_DELAY  102515 non-null  float64\n",
      " 11  if_arr_delay         527852 non-null  float64\n",
      " 12  if_dep_delay         527852 non-null  float64\n",
      "dtypes: float64(8), int64(2), object(3)\n",
      "memory usage: 72.5+ MB\n"
     ]
    }
   ],
   "source": [
    "df_model.info()"
   ]
  },
  {
   "cell_type": "markdown",
   "id": "2b89e6f7",
   "metadata": {},
   "source": [
    "It can be found that data related to states and carriers are all object types, which are unsuitable for model prediction. So we have to transform them to a format that suits the models. The three variables of object types are all discrete variables without order, hence we can generally use methods like sklearn.preprocessing.OneHotEncoder, pd.get_dummies and sklearn.preprocessing.LableEncoder to encode them."
   ]
  },
  {
   "cell_type": "markdown",
   "id": "e93b2033",
   "metadata": {},
   "source": [
    "1) for 'MKT_UNIQUE_CARRIER': As there are not many different carriers, it is relatively convenient to transform it into dummy variables to distinguish different attributes of carriers."
   ]
  },
  {
   "cell_type": "markdown",
   "id": "d0cbc5cb",
   "metadata": {},
   "source": [
    "2) for 'ORIGIN_STATE_ABR' and 'DEST_STATE_ABR': As there are around 50 different states for each variable, it will be too columns for the independent variables if we turn them into dummy variables too. Therefore, here I choose to use LabelEncoder to give each state a unique number so that we can put them into the model prediction."
   ]
  },
  {
   "cell_type": "code",
   "execution_count": 64,
   "id": "c7869826",
   "metadata": {},
   "outputs": [],
   "source": [
    "#transform carriers to 0/1\n",
    "df_model=pd.get_dummies(df_model,columns=['MKT_UNIQUE_CARRIER'])"
   ]
  },
  {
   "cell_type": "code",
   "execution_count": 68,
   "id": "d6ca571f",
   "metadata": {},
   "outputs": [],
   "source": [
    "#transform states to numbers\n",
    "le = LabelEncoder()\n",
    "df_model['ORIGIN_STATE_ABR1'] = le.fit_transform(df_model['ORIGIN_STATE_ABR'])\n",
    "df_model['DEST_STATE_ABR1'] = le.fit_transform(df_model['DEST_STATE_ABR'])"
   ]
  },
  {
   "cell_type": "code",
   "execution_count": 70,
   "id": "41aaa55d",
   "metadata": {},
   "outputs": [
    {
     "name": "stdout",
     "output_type": "stream",
     "text": [
      "<class 'pandas.core.frame.DataFrame'>\n",
      "Int64Index: 527852 entries, 0 to 563736\n",
      "Data columns (total 22 columns):\n",
      " #   Column                 Non-Null Count   Dtype  \n",
      "---  ------                 --------------   -----  \n",
      " 0   DAY_OF_WEEK            527852 non-null  int64  \n",
      " 1   DEP_TIME               527852 non-null  float64\n",
      " 2   DISTANCE               527852 non-null  int64  \n",
      " 3   CARRIER_DELAY          102515 non-null  float64\n",
      " 4   WEATHER_DELAY          102515 non-null  float64\n",
      " 5   NAS_DELAY              102515 non-null  float64\n",
      " 6   SECURITY_DELAY         102515 non-null  float64\n",
      " 7   LATE_AIRCRAFT_DELAY    102515 non-null  float64\n",
      " 8   if_arr_delay           527852 non-null  float64\n",
      " 9   if_dep_delay           527852 non-null  float64\n",
      " 10  MKT_UNIQUE_CARRIER_AA  527852 non-null  uint8  \n",
      " 11  MKT_UNIQUE_CARRIER_AS  527852 non-null  uint8  \n",
      " 12  MKT_UNIQUE_CARRIER_B6  527852 non-null  uint8  \n",
      " 13  MKT_UNIQUE_CARRIER_DL  527852 non-null  uint8  \n",
      " 14  MKT_UNIQUE_CARRIER_F9  527852 non-null  uint8  \n",
      " 15  MKT_UNIQUE_CARRIER_G4  527852 non-null  uint8  \n",
      " 16  MKT_UNIQUE_CARRIER_HA  527852 non-null  uint8  \n",
      " 17  MKT_UNIQUE_CARRIER_NK  527852 non-null  uint8  \n",
      " 18  MKT_UNIQUE_CARRIER_UA  527852 non-null  uint8  \n",
      " 19  MKT_UNIQUE_CARRIER_WN  527852 non-null  uint8  \n",
      " 20  ORIGIN_STATE_ABR1      527852 non-null  int64  \n",
      " 21  DEST_STATE_ABR1        527852 non-null  int64  \n",
      "dtypes: float64(8), int64(4), uint8(10)\n",
      "memory usage: 73.5 MB\n"
     ]
    }
   ],
   "source": [
    "#delete original columns\n",
    "df_model=df_model.drop(columns=['ORIGIN_STATE_ABR','DEST_STATE_ABR'])\n",
    "df_model.info()"
   ]
  },
  {
   "cell_type": "markdown",
   "id": "412828f6",
   "metadata": {},
   "source": [
    "Additionally, we find that the departure time is still a simple combined number of the hour and minute, and for forecasting convenience, we retain only the prior hour."
   ]
  },
  {
   "cell_type": "code",
   "execution_count": 72,
   "id": "259e8227",
   "metadata": {},
   "outputs": [],
   "source": [
    "#keep only the hour, dividing by 100 to remove the latter two digits\n",
    "for index,row in df_model.iterrows():\n",
    "    df_model['dep_time']=df_model['DEP_TIME']//100"
   ]
  },
  {
   "cell_type": "code",
   "execution_count": 75,
   "id": "be0c33b5",
   "metadata": {},
   "outputs": [],
   "source": [
    "df_model.drop(columns='DEP_TIME',inplace=True)"
   ]
  },
  {
   "cell_type": "markdown",
   "id": "d6f0fb0f",
   "metadata": {},
   "source": [
    "In this dataset, delay cause cannot be included in the prediction model because once the delay cause variable is not 0, the dependent variable ('if_arr_delay') must be 1. Therefore, although weather, carrier, and security issues are all significant factors affecting delay, they are not suitable for modelling in this case."
   ]
  },
  {
   "cell_type": "markdown",
   "id": "d6c5fef7",
   "metadata": {},
   "source": [
    "However, we will study the influence of weather factors by supplementing specific data such as temperature, wind speed, and humidity later."
   ]
  },
  {
   "cell_type": "code",
   "execution_count": 73,
   "id": "5d041002",
   "metadata": {},
   "outputs": [],
   "source": [
    "df_model.drop(columns=['CARRIER_DELAY','WEATHER_DELAY','NAS_DELAY','SECURITY_DELAY','LATE_AIRCRAFT_DELAY'],\n",
    "             inplace=True)"
   ]
  },
  {
   "cell_type": "code",
   "execution_count": 78,
   "id": "63ca1bbe",
   "metadata": {},
   "outputs": [
    {
     "name": "stdout",
     "output_type": "stream",
     "text": [
      "<class 'pandas.core.frame.DataFrame'>\n",
      "Int64Index: 527852 entries, 0 to 563736\n",
      "Data columns (total 17 columns):\n",
      " #   Column                 Non-Null Count   Dtype  \n",
      "---  ------                 --------------   -----  \n",
      " 0   DAY_OF_WEEK            527852 non-null  int64  \n",
      " 1   DISTANCE               527852 non-null  int64  \n",
      " 2   if_arr_delay           527852 non-null  float64\n",
      " 3   if_dep_delay           527852 non-null  float64\n",
      " 4   MKT_UNIQUE_CARRIER_AA  527852 non-null  uint8  \n",
      " 5   MKT_UNIQUE_CARRIER_AS  527852 non-null  uint8  \n",
      " 6   MKT_UNIQUE_CARRIER_B6  527852 non-null  uint8  \n",
      " 7   MKT_UNIQUE_CARRIER_DL  527852 non-null  uint8  \n",
      " 8   MKT_UNIQUE_CARRIER_F9  527852 non-null  uint8  \n",
      " 9   MKT_UNIQUE_CARRIER_G4  527852 non-null  uint8  \n",
      " 10  MKT_UNIQUE_CARRIER_HA  527852 non-null  uint8  \n",
      " 11  MKT_UNIQUE_CARRIER_NK  527852 non-null  uint8  \n",
      " 12  MKT_UNIQUE_CARRIER_UA  527852 non-null  uint8  \n",
      " 13  MKT_UNIQUE_CARRIER_WN  527852 non-null  uint8  \n",
      " 14  ORIGIN_STATE_ABR1      527852 non-null  int64  \n",
      " 15  DEST_STATE_ABR1        527852 non-null  int64  \n",
      " 16  dep_time               527852 non-null  float64\n",
      "dtypes: float64(3), int64(4), uint8(10)\n",
      "memory usage: 53.4 MB\n"
     ]
    }
   ],
   "source": [
    "df_model.info()"
   ]
  },
  {
   "cell_type": "markdown",
   "id": "d4e5ea4c",
   "metadata": {},
   "source": [
    "So far, we have completed the data preparation. Before starting the modeling, we continue to establish the correlation coefficient matrix and take a brief look at the relationship between the variables."
   ]
  },
  {
   "cell_type": "code",
   "execution_count": 79,
   "id": "f22996ba",
   "metadata": {
    "scrolled": false
   },
   "outputs": [
    {
     "data": {
      "text/html": [
       "<div>\n",
       "<style scoped>\n",
       "    .dataframe tbody tr th:only-of-type {\n",
       "        vertical-align: middle;\n",
       "    }\n",
       "\n",
       "    .dataframe tbody tr th {\n",
       "        vertical-align: top;\n",
       "    }\n",
       "\n",
       "    .dataframe thead th {\n",
       "        text-align: right;\n",
       "    }\n",
       "</style>\n",
       "<table border=\"1\" class=\"dataframe\">\n",
       "  <thead>\n",
       "    <tr style=\"text-align: right;\">\n",
       "      <th></th>\n",
       "      <th>DAY_OF_WEEK</th>\n",
       "      <th>DISTANCE</th>\n",
       "      <th>if_arr_delay</th>\n",
       "      <th>if_dep_delay</th>\n",
       "      <th>MKT_UNIQUE_CARRIER_AA</th>\n",
       "      <th>MKT_UNIQUE_CARRIER_AS</th>\n",
       "      <th>MKT_UNIQUE_CARRIER_B6</th>\n",
       "      <th>MKT_UNIQUE_CARRIER_DL</th>\n",
       "      <th>MKT_UNIQUE_CARRIER_F9</th>\n",
       "      <th>MKT_UNIQUE_CARRIER_G4</th>\n",
       "      <th>MKT_UNIQUE_CARRIER_HA</th>\n",
       "      <th>MKT_UNIQUE_CARRIER_NK</th>\n",
       "      <th>MKT_UNIQUE_CARRIER_UA</th>\n",
       "      <th>MKT_UNIQUE_CARRIER_WN</th>\n",
       "      <th>ORIGIN_STATE_ABR1</th>\n",
       "      <th>DEST_STATE_ABR1</th>\n",
       "      <th>dep_time</th>\n",
       "    </tr>\n",
       "  </thead>\n",
       "  <tbody>\n",
       "    <tr>\n",
       "      <th>DAY_OF_WEEK</th>\n",
       "      <td>1.000000</td>\n",
       "      <td>0.010604</td>\n",
       "      <td>0.062037</td>\n",
       "      <td>0.052623</td>\n",
       "      <td>0.008596</td>\n",
       "      <td>0.003307</td>\n",
       "      <td>-0.001899</td>\n",
       "      <td>-0.023494</td>\n",
       "      <td>0.003405</td>\n",
       "      <td>0.017025</td>\n",
       "      <td>0.001448</td>\n",
       "      <td>0.007366</td>\n",
       "      <td>-0.007190</td>\n",
       "      <td>0.011030</td>\n",
       "      <td>-0.005761</td>\n",
       "      <td>-0.005857</td>\n",
       "      <td>0.009899</td>\n",
       "    </tr>\n",
       "    <tr>\n",
       "      <th>DISTANCE</th>\n",
       "      <td>0.010604</td>\n",
       "      <td>1.000000</td>\n",
       "      <td>0.010814</td>\n",
       "      <td>0.026316</td>\n",
       "      <td>-0.077013</td>\n",
       "      <td>0.064734</td>\n",
       "      <td>0.119222</td>\n",
       "      <td>-0.060388</td>\n",
       "      <td>0.038032</td>\n",
       "      <td>0.026049</td>\n",
       "      <td>0.039187</td>\n",
       "      <td>0.073826</td>\n",
       "      <td>0.020665</td>\n",
       "      <td>-0.031075</td>\n",
       "      <td>-0.083255</td>\n",
       "      <td>-0.084358</td>\n",
       "      <td>-0.019876</td>\n",
       "    </tr>\n",
       "    <tr>\n",
       "      <th>if_arr_delay</th>\n",
       "      <td>0.062037</td>\n",
       "      <td>0.010814</td>\n",
       "      <td>1.000000</td>\n",
       "      <td>0.732026</td>\n",
       "      <td>-0.036674</td>\n",
       "      <td>0.019302</td>\n",
       "      <td>0.061569</td>\n",
       "      <td>-0.039196</td>\n",
       "      <td>0.029266</td>\n",
       "      <td>0.027947</td>\n",
       "      <td>-0.001271</td>\n",
       "      <td>0.017044</td>\n",
       "      <td>0.027377</td>\n",
       "      <td>-0.012337</td>\n",
       "      <td>0.002105</td>\n",
       "      <td>0.006552</td>\n",
       "      <td>0.136066</td>\n",
       "    </tr>\n",
       "    <tr>\n",
       "      <th>if_dep_delay</th>\n",
       "      <td>0.052623</td>\n",
       "      <td>0.026316</td>\n",
       "      <td>0.732026</td>\n",
       "      <td>1.000000</td>\n",
       "      <td>-0.047224</td>\n",
       "      <td>0.004818</td>\n",
       "      <td>0.056863</td>\n",
       "      <td>-0.048316</td>\n",
       "      <td>0.028521</td>\n",
       "      <td>0.017585</td>\n",
       "      <td>-0.003993</td>\n",
       "      <td>0.007926</td>\n",
       "      <td>0.029851</td>\n",
       "      <td>0.026912</td>\n",
       "      <td>-0.002050</td>\n",
       "      <td>-0.001212</td>\n",
       "      <td>0.167643</td>\n",
       "    </tr>\n",
       "    <tr>\n",
       "      <th>MKT_UNIQUE_CARRIER_AA</th>\n",
       "      <td>0.008596</td>\n",
       "      <td>-0.077013</td>\n",
       "      <td>-0.036674</td>\n",
       "      <td>-0.047224</td>\n",
       "      <td>1.000000</td>\n",
       "      <td>-0.142022</td>\n",
       "      <td>-0.117281</td>\n",
       "      <td>-0.313332</td>\n",
       "      <td>-0.090011</td>\n",
       "      <td>-0.074752</td>\n",
       "      <td>-0.062731</td>\n",
       "      <td>-0.109859</td>\n",
       "      <td>-0.282273</td>\n",
       "      <td>-0.275169</td>\n",
       "      <td>0.126230</td>\n",
       "      <td>0.125846</td>\n",
       "      <td>-0.004489</td>\n",
       "    </tr>\n",
       "    <tr>\n",
       "      <th>MKT_UNIQUE_CARRIER_AS</th>\n",
       "      <td>0.003307</td>\n",
       "      <td>0.064734</td>\n",
       "      <td>0.019302</td>\n",
       "      <td>0.004818</td>\n",
       "      <td>-0.142022</td>\n",
       "      <td>1.000000</td>\n",
       "      <td>-0.045796</td>\n",
       "      <td>-0.122350</td>\n",
       "      <td>-0.035147</td>\n",
       "      <td>-0.029189</td>\n",
       "      <td>-0.024495</td>\n",
       "      <td>-0.042898</td>\n",
       "      <td>-0.110222</td>\n",
       "      <td>-0.107448</td>\n",
       "      <td>0.034920</td>\n",
       "      <td>0.034546</td>\n",
       "      <td>0.009326</td>\n",
       "    </tr>\n",
       "    <tr>\n",
       "      <th>MKT_UNIQUE_CARRIER_B6</th>\n",
       "      <td>-0.001899</td>\n",
       "      <td>0.119222</td>\n",
       "      <td>0.061569</td>\n",
       "      <td>0.056863</td>\n",
       "      <td>-0.117281</td>\n",
       "      <td>-0.045796</td>\n",
       "      <td>1.000000</td>\n",
       "      <td>-0.101036</td>\n",
       "      <td>-0.029025</td>\n",
       "      <td>-0.024104</td>\n",
       "      <td>-0.020228</td>\n",
       "      <td>-0.035425</td>\n",
       "      <td>-0.091021</td>\n",
       "      <td>-0.088730</td>\n",
       "      <td>-0.008853</td>\n",
       "      <td>-0.008992</td>\n",
       "      <td>0.011889</td>\n",
       "    </tr>\n",
       "    <tr>\n",
       "      <th>MKT_UNIQUE_CARRIER_DL</th>\n",
       "      <td>-0.023494</td>\n",
       "      <td>-0.060388</td>\n",
       "      <td>-0.039196</td>\n",
       "      <td>-0.048316</td>\n",
       "      <td>-0.313332</td>\n",
       "      <td>-0.122350</td>\n",
       "      <td>-0.101036</td>\n",
       "      <td>1.000000</td>\n",
       "      <td>-0.077543</td>\n",
       "      <td>-0.064398</td>\n",
       "      <td>-0.054042</td>\n",
       "      <td>-0.094642</td>\n",
       "      <td>-0.243174</td>\n",
       "      <td>-0.237054</td>\n",
       "      <td>-0.003814</td>\n",
       "      <td>-0.003541</td>\n",
       "      <td>-0.001252</td>\n",
       "    </tr>\n",
       "    <tr>\n",
       "      <th>MKT_UNIQUE_CARRIER_F9</th>\n",
       "      <td>0.003405</td>\n",
       "      <td>0.038032</td>\n",
       "      <td>0.029266</td>\n",
       "      <td>0.028521</td>\n",
       "      <td>-0.090011</td>\n",
       "      <td>-0.035147</td>\n",
       "      <td>-0.029025</td>\n",
       "      <td>-0.077543</td>\n",
       "      <td>1.000000</td>\n",
       "      <td>-0.018500</td>\n",
       "      <td>-0.015525</td>\n",
       "      <td>-0.027188</td>\n",
       "      <td>-0.069856</td>\n",
       "      <td>-0.068098</td>\n",
       "      <td>-0.038776</td>\n",
       "      <td>-0.038673</td>\n",
       "      <td>0.005407</td>\n",
       "    </tr>\n",
       "    <tr>\n",
       "      <th>MKT_UNIQUE_CARRIER_G4</th>\n",
       "      <td>0.017025</td>\n",
       "      <td>0.026049</td>\n",
       "      <td>0.027947</td>\n",
       "      <td>0.017585</td>\n",
       "      <td>-0.074752</td>\n",
       "      <td>-0.029189</td>\n",
       "      <td>-0.024104</td>\n",
       "      <td>-0.064398</td>\n",
       "      <td>-0.018500</td>\n",
       "      <td>1.000000</td>\n",
       "      <td>-0.012893</td>\n",
       "      <td>-0.022579</td>\n",
       "      <td>-0.058015</td>\n",
       "      <td>-0.056555</td>\n",
       "      <td>-0.029588</td>\n",
       "      <td>-0.029475</td>\n",
       "      <td>0.003136</td>\n",
       "    </tr>\n",
       "    <tr>\n",
       "      <th>MKT_UNIQUE_CARRIER_HA</th>\n",
       "      <td>0.001448</td>\n",
       "      <td>0.039187</td>\n",
       "      <td>-0.001271</td>\n",
       "      <td>-0.003993</td>\n",
       "      <td>-0.062731</td>\n",
       "      <td>-0.024495</td>\n",
       "      <td>-0.020228</td>\n",
       "      <td>-0.054042</td>\n",
       "      <td>-0.015525</td>\n",
       "      <td>-0.012893</td>\n",
       "      <td>1.000000</td>\n",
       "      <td>-0.018948</td>\n",
       "      <td>-0.048685</td>\n",
       "      <td>-0.047460</td>\n",
       "      <td>-0.081220</td>\n",
       "      <td>-0.081302</td>\n",
       "      <td>-0.019974</td>\n",
       "    </tr>\n",
       "    <tr>\n",
       "      <th>MKT_UNIQUE_CARRIER_NK</th>\n",
       "      <td>0.007366</td>\n",
       "      <td>0.073826</td>\n",
       "      <td>0.017044</td>\n",
       "      <td>0.007926</td>\n",
       "      <td>-0.109859</td>\n",
       "      <td>-0.042898</td>\n",
       "      <td>-0.035425</td>\n",
       "      <td>-0.094642</td>\n",
       "      <td>-0.027188</td>\n",
       "      <td>-0.022579</td>\n",
       "      <td>-0.018948</td>\n",
       "      <td>1.000000</td>\n",
       "      <td>-0.085260</td>\n",
       "      <td>-0.083114</td>\n",
       "      <td>-0.032350</td>\n",
       "      <td>-0.032326</td>\n",
       "      <td>0.011901</td>\n",
       "    </tr>\n",
       "    <tr>\n",
       "      <th>MKT_UNIQUE_CARRIER_UA</th>\n",
       "      <td>-0.007190</td>\n",
       "      <td>0.020665</td>\n",
       "      <td>0.027377</td>\n",
       "      <td>0.029851</td>\n",
       "      <td>-0.282273</td>\n",
       "      <td>-0.110222</td>\n",
       "      <td>-0.091021</td>\n",
       "      <td>-0.243174</td>\n",
       "      <td>-0.069856</td>\n",
       "      <td>-0.058015</td>\n",
       "      <td>-0.048685</td>\n",
       "      <td>-0.085260</td>\n",
       "      <td>1.000000</td>\n",
       "      <td>-0.213556</td>\n",
       "      <td>-0.022036</td>\n",
       "      <td>-0.021662</td>\n",
       "      <td>-0.009479</td>\n",
       "    </tr>\n",
       "    <tr>\n",
       "      <th>MKT_UNIQUE_CARRIER_WN</th>\n",
       "      <td>0.011030</td>\n",
       "      <td>-0.031075</td>\n",
       "      <td>-0.012337</td>\n",
       "      <td>0.026912</td>\n",
       "      <td>-0.275169</td>\n",
       "      <td>-0.107448</td>\n",
       "      <td>-0.088730</td>\n",
       "      <td>-0.237054</td>\n",
       "      <td>-0.068098</td>\n",
       "      <td>-0.056555</td>\n",
       "      <td>-0.047460</td>\n",
       "      <td>-0.083114</td>\n",
       "      <td>-0.213556</td>\n",
       "      <td>1.000000</td>\n",
       "      <td>-0.075733</td>\n",
       "      <td>-0.075735</td>\n",
       "      <td>0.001625</td>\n",
       "    </tr>\n",
       "    <tr>\n",
       "      <th>ORIGIN_STATE_ABR1</th>\n",
       "      <td>-0.005761</td>\n",
       "      <td>-0.083255</td>\n",
       "      <td>0.002105</td>\n",
       "      <td>-0.002050</td>\n",
       "      <td>0.126230</td>\n",
       "      <td>0.034920</td>\n",
       "      <td>-0.008853</td>\n",
       "      <td>-0.003814</td>\n",
       "      <td>-0.038776</td>\n",
       "      <td>-0.029588</td>\n",
       "      <td>-0.081220</td>\n",
       "      <td>-0.032350</td>\n",
       "      <td>-0.022036</td>\n",
       "      <td>-0.075733</td>\n",
       "      <td>1.000000</td>\n",
       "      <td>0.023435</td>\n",
       "      <td>-0.010881</td>\n",
       "    </tr>\n",
       "    <tr>\n",
       "      <th>DEST_STATE_ABR1</th>\n",
       "      <td>-0.005857</td>\n",
       "      <td>-0.084358</td>\n",
       "      <td>0.006552</td>\n",
       "      <td>-0.001212</td>\n",
       "      <td>0.125846</td>\n",
       "      <td>0.034546</td>\n",
       "      <td>-0.008992</td>\n",
       "      <td>-0.003541</td>\n",
       "      <td>-0.038673</td>\n",
       "      <td>-0.029475</td>\n",
       "      <td>-0.081302</td>\n",
       "      <td>-0.032326</td>\n",
       "      <td>-0.021662</td>\n",
       "      <td>-0.075735</td>\n",
       "      <td>0.023435</td>\n",
       "      <td>1.000000</td>\n",
       "      <td>0.013906</td>\n",
       "    </tr>\n",
       "    <tr>\n",
       "      <th>dep_time</th>\n",
       "      <td>0.009899</td>\n",
       "      <td>-0.019876</td>\n",
       "      <td>0.136066</td>\n",
       "      <td>0.167643</td>\n",
       "      <td>-0.004489</td>\n",
       "      <td>0.009326</td>\n",
       "      <td>0.011889</td>\n",
       "      <td>-0.001252</td>\n",
       "      <td>0.005407</td>\n",
       "      <td>0.003136</td>\n",
       "      <td>-0.019974</td>\n",
       "      <td>0.011901</td>\n",
       "      <td>-0.009479</td>\n",
       "      <td>0.001625</td>\n",
       "      <td>-0.010881</td>\n",
       "      <td>0.013906</td>\n",
       "      <td>1.000000</td>\n",
       "    </tr>\n",
       "  </tbody>\n",
       "</table>\n",
       "</div>"
      ],
      "text/plain": [
       "                       DAY_OF_WEEK  DISTANCE  if_arr_delay  if_dep_delay  \\\n",
       "DAY_OF_WEEK               1.000000  0.010604      0.062037      0.052623   \n",
       "DISTANCE                  0.010604  1.000000      0.010814      0.026316   \n",
       "if_arr_delay              0.062037  0.010814      1.000000      0.732026   \n",
       "if_dep_delay              0.052623  0.026316      0.732026      1.000000   \n",
       "MKT_UNIQUE_CARRIER_AA     0.008596 -0.077013     -0.036674     -0.047224   \n",
       "MKT_UNIQUE_CARRIER_AS     0.003307  0.064734      0.019302      0.004818   \n",
       "MKT_UNIQUE_CARRIER_B6    -0.001899  0.119222      0.061569      0.056863   \n",
       "MKT_UNIQUE_CARRIER_DL    -0.023494 -0.060388     -0.039196     -0.048316   \n",
       "MKT_UNIQUE_CARRIER_F9     0.003405  0.038032      0.029266      0.028521   \n",
       "MKT_UNIQUE_CARRIER_G4     0.017025  0.026049      0.027947      0.017585   \n",
       "MKT_UNIQUE_CARRIER_HA     0.001448  0.039187     -0.001271     -0.003993   \n",
       "MKT_UNIQUE_CARRIER_NK     0.007366  0.073826      0.017044      0.007926   \n",
       "MKT_UNIQUE_CARRIER_UA    -0.007190  0.020665      0.027377      0.029851   \n",
       "MKT_UNIQUE_CARRIER_WN     0.011030 -0.031075     -0.012337      0.026912   \n",
       "ORIGIN_STATE_ABR1        -0.005761 -0.083255      0.002105     -0.002050   \n",
       "DEST_STATE_ABR1          -0.005857 -0.084358      0.006552     -0.001212   \n",
       "dep_time                  0.009899 -0.019876      0.136066      0.167643   \n",
       "\n",
       "                       MKT_UNIQUE_CARRIER_AA  MKT_UNIQUE_CARRIER_AS  \\\n",
       "DAY_OF_WEEK                         0.008596               0.003307   \n",
       "DISTANCE                           -0.077013               0.064734   \n",
       "if_arr_delay                       -0.036674               0.019302   \n",
       "if_dep_delay                       -0.047224               0.004818   \n",
       "MKT_UNIQUE_CARRIER_AA               1.000000              -0.142022   \n",
       "MKT_UNIQUE_CARRIER_AS              -0.142022               1.000000   \n",
       "MKT_UNIQUE_CARRIER_B6              -0.117281              -0.045796   \n",
       "MKT_UNIQUE_CARRIER_DL              -0.313332              -0.122350   \n",
       "MKT_UNIQUE_CARRIER_F9              -0.090011              -0.035147   \n",
       "MKT_UNIQUE_CARRIER_G4              -0.074752              -0.029189   \n",
       "MKT_UNIQUE_CARRIER_HA              -0.062731              -0.024495   \n",
       "MKT_UNIQUE_CARRIER_NK              -0.109859              -0.042898   \n",
       "MKT_UNIQUE_CARRIER_UA              -0.282273              -0.110222   \n",
       "MKT_UNIQUE_CARRIER_WN              -0.275169              -0.107448   \n",
       "ORIGIN_STATE_ABR1                   0.126230               0.034920   \n",
       "DEST_STATE_ABR1                     0.125846               0.034546   \n",
       "dep_time                           -0.004489               0.009326   \n",
       "\n",
       "                       MKT_UNIQUE_CARRIER_B6  MKT_UNIQUE_CARRIER_DL  \\\n",
       "DAY_OF_WEEK                        -0.001899              -0.023494   \n",
       "DISTANCE                            0.119222              -0.060388   \n",
       "if_arr_delay                        0.061569              -0.039196   \n",
       "if_dep_delay                        0.056863              -0.048316   \n",
       "MKT_UNIQUE_CARRIER_AA              -0.117281              -0.313332   \n",
       "MKT_UNIQUE_CARRIER_AS              -0.045796              -0.122350   \n",
       "MKT_UNIQUE_CARRIER_B6               1.000000              -0.101036   \n",
       "MKT_UNIQUE_CARRIER_DL              -0.101036               1.000000   \n",
       "MKT_UNIQUE_CARRIER_F9              -0.029025              -0.077543   \n",
       "MKT_UNIQUE_CARRIER_G4              -0.024104              -0.064398   \n",
       "MKT_UNIQUE_CARRIER_HA              -0.020228              -0.054042   \n",
       "MKT_UNIQUE_CARRIER_NK              -0.035425              -0.094642   \n",
       "MKT_UNIQUE_CARRIER_UA              -0.091021              -0.243174   \n",
       "MKT_UNIQUE_CARRIER_WN              -0.088730              -0.237054   \n",
       "ORIGIN_STATE_ABR1                  -0.008853              -0.003814   \n",
       "DEST_STATE_ABR1                    -0.008992              -0.003541   \n",
       "dep_time                            0.011889              -0.001252   \n",
       "\n",
       "                       MKT_UNIQUE_CARRIER_F9  MKT_UNIQUE_CARRIER_G4  \\\n",
       "DAY_OF_WEEK                         0.003405               0.017025   \n",
       "DISTANCE                            0.038032               0.026049   \n",
       "if_arr_delay                        0.029266               0.027947   \n",
       "if_dep_delay                        0.028521               0.017585   \n",
       "MKT_UNIQUE_CARRIER_AA              -0.090011              -0.074752   \n",
       "MKT_UNIQUE_CARRIER_AS              -0.035147              -0.029189   \n",
       "MKT_UNIQUE_CARRIER_B6              -0.029025              -0.024104   \n",
       "MKT_UNIQUE_CARRIER_DL              -0.077543              -0.064398   \n",
       "MKT_UNIQUE_CARRIER_F9               1.000000              -0.018500   \n",
       "MKT_UNIQUE_CARRIER_G4              -0.018500               1.000000   \n",
       "MKT_UNIQUE_CARRIER_HA              -0.015525              -0.012893   \n",
       "MKT_UNIQUE_CARRIER_NK              -0.027188              -0.022579   \n",
       "MKT_UNIQUE_CARRIER_UA              -0.069856              -0.058015   \n",
       "MKT_UNIQUE_CARRIER_WN              -0.068098              -0.056555   \n",
       "ORIGIN_STATE_ABR1                  -0.038776              -0.029588   \n",
       "DEST_STATE_ABR1                    -0.038673              -0.029475   \n",
       "dep_time                            0.005407               0.003136   \n",
       "\n",
       "                       MKT_UNIQUE_CARRIER_HA  MKT_UNIQUE_CARRIER_NK  \\\n",
       "DAY_OF_WEEK                         0.001448               0.007366   \n",
       "DISTANCE                            0.039187               0.073826   \n",
       "if_arr_delay                       -0.001271               0.017044   \n",
       "if_dep_delay                       -0.003993               0.007926   \n",
       "MKT_UNIQUE_CARRIER_AA              -0.062731              -0.109859   \n",
       "MKT_UNIQUE_CARRIER_AS              -0.024495              -0.042898   \n",
       "MKT_UNIQUE_CARRIER_B6              -0.020228              -0.035425   \n",
       "MKT_UNIQUE_CARRIER_DL              -0.054042              -0.094642   \n",
       "MKT_UNIQUE_CARRIER_F9              -0.015525              -0.027188   \n",
       "MKT_UNIQUE_CARRIER_G4              -0.012893              -0.022579   \n",
       "MKT_UNIQUE_CARRIER_HA               1.000000              -0.018948   \n",
       "MKT_UNIQUE_CARRIER_NK              -0.018948               1.000000   \n",
       "MKT_UNIQUE_CARRIER_UA              -0.048685              -0.085260   \n",
       "MKT_UNIQUE_CARRIER_WN              -0.047460              -0.083114   \n",
       "ORIGIN_STATE_ABR1                  -0.081220              -0.032350   \n",
       "DEST_STATE_ABR1                    -0.081302              -0.032326   \n",
       "dep_time                           -0.019974               0.011901   \n",
       "\n",
       "                       MKT_UNIQUE_CARRIER_UA  MKT_UNIQUE_CARRIER_WN  \\\n",
       "DAY_OF_WEEK                        -0.007190               0.011030   \n",
       "DISTANCE                            0.020665              -0.031075   \n",
       "if_arr_delay                        0.027377              -0.012337   \n",
       "if_dep_delay                        0.029851               0.026912   \n",
       "MKT_UNIQUE_CARRIER_AA              -0.282273              -0.275169   \n",
       "MKT_UNIQUE_CARRIER_AS              -0.110222              -0.107448   \n",
       "MKT_UNIQUE_CARRIER_B6              -0.091021              -0.088730   \n",
       "MKT_UNIQUE_CARRIER_DL              -0.243174              -0.237054   \n",
       "MKT_UNIQUE_CARRIER_F9              -0.069856              -0.068098   \n",
       "MKT_UNIQUE_CARRIER_G4              -0.058015              -0.056555   \n",
       "MKT_UNIQUE_CARRIER_HA              -0.048685              -0.047460   \n",
       "MKT_UNIQUE_CARRIER_NK              -0.085260              -0.083114   \n",
       "MKT_UNIQUE_CARRIER_UA               1.000000              -0.213556   \n",
       "MKT_UNIQUE_CARRIER_WN              -0.213556               1.000000   \n",
       "ORIGIN_STATE_ABR1                  -0.022036              -0.075733   \n",
       "DEST_STATE_ABR1                    -0.021662              -0.075735   \n",
       "dep_time                           -0.009479               0.001625   \n",
       "\n",
       "                       ORIGIN_STATE_ABR1  DEST_STATE_ABR1  dep_time  \n",
       "DAY_OF_WEEK                    -0.005761        -0.005857  0.009899  \n",
       "DISTANCE                       -0.083255        -0.084358 -0.019876  \n",
       "if_arr_delay                    0.002105         0.006552  0.136066  \n",
       "if_dep_delay                   -0.002050        -0.001212  0.167643  \n",
       "MKT_UNIQUE_CARRIER_AA           0.126230         0.125846 -0.004489  \n",
       "MKT_UNIQUE_CARRIER_AS           0.034920         0.034546  0.009326  \n",
       "MKT_UNIQUE_CARRIER_B6          -0.008853        -0.008992  0.011889  \n",
       "MKT_UNIQUE_CARRIER_DL          -0.003814        -0.003541 -0.001252  \n",
       "MKT_UNIQUE_CARRIER_F9          -0.038776        -0.038673  0.005407  \n",
       "MKT_UNIQUE_CARRIER_G4          -0.029588        -0.029475  0.003136  \n",
       "MKT_UNIQUE_CARRIER_HA          -0.081220        -0.081302 -0.019974  \n",
       "MKT_UNIQUE_CARRIER_NK          -0.032350        -0.032326  0.011901  \n",
       "MKT_UNIQUE_CARRIER_UA          -0.022036        -0.021662 -0.009479  \n",
       "MKT_UNIQUE_CARRIER_WN          -0.075733        -0.075735  0.001625  \n",
       "ORIGIN_STATE_ABR1               1.000000         0.023435 -0.010881  \n",
       "DEST_STATE_ABR1                 0.023435         1.000000  0.013906  \n",
       "dep_time                       -0.010881         0.013906  1.000000  "
      ]
     },
     "execution_count": 79,
     "metadata": {},
     "output_type": "execute_result"
    }
   ],
   "source": [
    "df_model.corr()"
   ]
  },
  {
   "cell_type": "markdown",
   "id": "a246413a",
   "metadata": {},
   "source": [
    "## Model Construction"
   ]
  },
  {
   "cell_type": "markdown",
   "id": "b564bbd9",
   "metadata": {},
   "source": [
    "### Model Selection"
   ]
  },
  {
   "cell_type": "markdown",
   "id": "7e8de582",
   "metadata": {},
   "source": [
    "There are many mature algorithms in machine learning. Here we choose logistic regression, decision tree, and random forest to build predictive models."
   ]
  },
  {
   "cell_type": "markdown",
   "id": "d6a4d271",
   "metadata": {},
   "source": [
    "Recalling the primary task, which is to predict possible future delays through modeling based on existing flight records, supervised machine learning fits our purpose well. In supervised learning, the computer learns the relationship between input and output from an existing dataset and then trains an ideal model based on that knowledge. That is to say, the computer can learn to find the link between the feature and the label on its own, and then judge the label when presented with data without the label. In this case, by employing a supervised learning technique, the transport department can use the model to estimate whether there will be a delay based on the current circumstances before the plane lands."
   ]
  },
  {
   "cell_type": "markdown",
   "id": "840b3226",
   "metadata": {},
   "source": [
    "1) Logistic Regression: Since our dependent variable is a 0/1 variable, logistic regression is an appropriate approach for such binary classification issues. The model acquires a continuous number between 0 and 1, which represents the probability of a plane being delayed."
   ]
  },
  {
   "cell_type": "markdown",
   "id": "a90b36b9",
   "metadata": {},
   "source": [
    "2) Decision Tree: Based on the training dataset, the decision tree discovers the relationship between the feature set and the data category and generates an if-else judgement condition tree. It can show us a structure that is akin to an aeroplane \"evaluating\" whether it is to delay based on the overall condition, as well as the importance of each influencing aspect."
   ]
  },
  {
   "cell_type": "markdown",
   "id": "ba513702",
   "metadata": {},
   "source": [
    "3) RandomForest: A random forest consists of multiple decision trees, each of which is different and independent of each other. Compared to decision trees, it is more accurate."
   ]
  },
  {
   "cell_type": "markdown",
   "id": "74a3dac9",
   "metadata": {},
   "source": [
    "### Divide into Train and Test Dataset"
   ]
  },
  {
   "cell_type": "code",
   "execution_count": 80,
   "id": "74be4da2",
   "metadata": {},
   "outputs": [],
   "source": [
    "#dependent variable: whether the flight is delayed ('if_arr_delay')\n",
    "#independent variable: the rest columns\n",
    "X=df_model.drop(columns='if_arr_delay')\n",
    "y=df_model['if_arr_delay']"
   ]
  },
  {
   "cell_type": "code",
   "execution_count": 81,
   "id": "324fe582",
   "metadata": {},
   "outputs": [],
   "source": [
    "#divide into train/test dataset\n",
    "X_train, X_test, y_train, y_test=train_test_split(X,y,test_size=0.3, random_state=1234)"
   ]
  },
  {
   "cell_type": "markdown",
   "id": "33fff7f8",
   "metadata": {},
   "source": [
    "### Logistic Regression"
   ]
  },
  {
   "cell_type": "code",
   "execution_count": 83,
   "id": "589b626a",
   "metadata": {},
   "outputs": [
    {
     "name": "stdout",
     "output_type": "stream",
     "text": [
      "[-2.08329974] [[-1.60977569e-02 -3.07664491e-04  4.39308798e+00 -3.65726715e-01\n",
      "   7.55083398e-02  2.22863984e-01 -4.37271528e-01 -1.93395121e-03\n",
      "   6.72817889e-02 -7.58047666e-02  2.57570269e-02 -5.30483742e-01\n",
      "  -1.06316449e+00 -6.55185433e-03  3.77708658e-03 -1.45950968e-03]]\n"
     ]
    },
    {
     "name": "stderr",
     "output_type": "stream",
     "text": [
      "/Users/juqianyue/opt/anaconda3/lib/python3.9/site-packages/sklearn/linear_model/_logistic.py:763: ConvergenceWarning: lbfgs failed to converge (status=1):\n",
      "STOP: TOTAL NO. of ITERATIONS REACHED LIMIT.\n",
      "\n",
      "Increase the number of iterations (max_iter) or scale the data as shown in:\n",
      "    https://scikit-learn.org/stable/modules/preprocessing.html\n",
      "Please also refer to the documentation for alternative solver options:\n",
      "    https://scikit-learn.org/stable/modules/linear_model.html#logistic-regression\n",
      "  n_iter_i = _check_optimize_result(\n"
     ]
    }
   ],
   "source": [
    "#build model using the train dataset\n",
    "sklearn_logistic=linear_model.LogisticRegression()\n",
    "sklearn_logistic.fit(X_train,y_train)\n",
    "\n",
    "#get parameters of the regression model\n",
    "print(sklearn_logistic.intercept_,sklearn_logistic.coef_)"
   ]
  },
  {
   "cell_type": "markdown",
   "id": "59bb5224",
   "metadata": {},
   "source": [
    "By calculating the regression coefficient of the model, we get a series of parameters. The first value is the intercept term of the model, and the latter values are the coefficient values of each independent variable, reflecting their effect on the dependent variable."
   ]
  },
  {
   "cell_type": "code",
   "execution_count": 84,
   "id": "cae6a87c",
   "metadata": {},
   "outputs": [
    {
     "data": {
      "text/plain": [
       "0.0    127151\n",
       "1.0     31205\n",
       "dtype: int64"
      ]
     },
     "execution_count": 84,
     "metadata": {},
     "output_type": "execute_result"
    }
   ],
   "source": [
    "#Use X on the test set to predict y\n",
    "sklearn_predict=sklearn_logistic.predict(X_test)\n",
    "\n",
    "#Statistics of predicted results\n",
    "pd.Series(sklearn_predict).value_counts()"
   ]
  },
  {
   "cell_type": "code",
   "execution_count": 85,
   "id": "70e10585",
   "metadata": {},
   "outputs": [
    {
     "data": {
      "text/plain": [
       "array([[120538,   6743],\n",
       "       [  6613,  24462]])"
      ]
     },
     "execution_count": 85,
     "metadata": {},
     "output_type": "execute_result"
    }
   ],
   "source": [
    "#Evaluate the regression model\n",
    "\n",
    "#confusion matrix\n",
    "cm=metrics.confusion_matrix(y_test,sklearn_predict,labels=[0,1])\n",
    "cm"
   ]
  },
  {
   "cell_type": "code",
   "execution_count": 86,
   "id": "ff90fc22",
   "metadata": {},
   "outputs": [
    {
     "data": {
      "text/plain": [
       "0.9156583899568062"
      ]
     },
     "execution_count": 86,
     "metadata": {},
     "output_type": "execute_result"
    }
   ],
   "source": [
    "#get the accuracy of the model\n",
    "sklearn_logistic.score(X_test,y_test)"
   ]
  },
  {
   "cell_type": "markdown",
   "id": "a525132e",
   "metadata": {},
   "source": [
    "The accuracy of the logistic regression prediction model reaches about 0.92, indicating that the model has a high prediction accuracy. In addition, from its output, we can also see the impact of different variables on aircraft delays."
   ]
  },
  {
   "cell_type": "markdown",
   "id": "594a30da",
   "metadata": {},
   "source": [
    "### Decision Tree"
   ]
  },
  {
   "cell_type": "code",
   "execution_count": 87,
   "id": "a86bb578",
   "metadata": {},
   "outputs": [
    {
     "name": "stdout",
     "output_type": "stream",
     "text": [
      "Accuracy: 0.878722624971583\n"
     ]
    }
   ],
   "source": [
    "#Build decision tree\n",
    "clf=DecisionTreeClassifier(random_state=50)\n",
    "clf.fit(X_train,y_train)\n",
    "\n",
    "#predict y on X_test\n",
    "y_pred = clf.predict(X_test)\n",
    "#get the accuracy of the tree\n",
    "print(\"Accuracy:\",metrics.accuracy_score(y_test, y_pred))"
   ]
  },
  {
   "cell_type": "code",
   "execution_count": 89,
   "id": "42fb183e",
   "metadata": {},
   "outputs": [
    {
     "data": {
      "image/png": "[encoded data removed]",
      "text/plain": [
       "<Figure size 432x288 with 1 Axes>"
      ]
     },
     "metadata": {
      "needs_background": "light"
     },
     "output_type": "display_data"
    }
   ],
   "source": [
    "#Show the ROC curve\n",
    "\n",
    "y_score=clf.predict_proba(X_test)[:,1]\n",
    "fpr,tpr,threshold=metrics.roc_curve(y_test,y_score)\n",
    "\n",
    "#calculate AUC\n",
    "roc_auc=metrics.auc(fpr,tpr)\n",
    "\n",
    "#draw the area chart\n",
    "plt.stackplot(fpr,tpr,color='steelblue',alpha=0.5,edgecolor='black')\n",
    "#draw the margin plot\n",
    "plt.plot(fpr,tpr,color='red',lw=1)\n",
    "#draw the diagonal\n",
    "plt.plot([0,1],[0,1],color='black',linestyle='--')\n",
    "#add text information\n",
    "plt.text(0.5,0.3,'ROC curve(area=%0.2f)'%roc_auc)\n",
    "#set label on axis\n",
    "plt.xlabel('1-Specificity')\n",
    "plt.ylabel('Sensitivity')\n",
    "plt.show()"
   ]
  },
  {
   "cell_type": "code",
   "execution_count": 90,
   "id": "5fe00844",
   "metadata": {},
   "outputs": [
    {
     "data": {
      "text/plain": [
       "<AxesSubplot:>"
      ]
     },
     "execution_count": 90,
     "metadata": {},
     "output_type": "execute_result"
    },
    {
     "data": {
      "image/png": "[encoded data removed]",
      "text/plain": [
       "<Figure size 720x576 with 1 Axes>"
      ]
     },
     "metadata": {
      "needs_background": "light"
     },
     "output_type": "display_data"
    }
   ],
   "source": [
    "#get the importance of each variables\n",
    "importance_clf=clf.feature_importances_\n",
    "impt_series=pd.Series(importance_clf, index=X_train.columns)\n",
    "#show in a plot\n",
    "impt_series.sort_values(ascending=True).plot(kind='bar',figsize=(10,8))"
   ]
  },
  {
   "cell_type": "markdown",
   "id": "9644afd1",
   "metadata": {},
   "source": [
    "The accuracy of the decision tree model  about 0.87, which is slightly lower than logistic regression, but still relatively high. In addition, from the above figure, we can also find that whether the departure is delayed has the greatest impact on the prediction of the arrival delay.Besides, the distance and departure time also have important effects."
   ]
  },
  {
   "cell_type": "markdown",
   "id": "09ccd07f",
   "metadata": {},
   "source": [
    "### Random Forest"
   ]
  },
  {
   "cell_type": "code",
   "execution_count": 91,
   "id": "bb47cd31",
   "metadata": {},
   "outputs": [
    {
     "name": "stdout",
     "output_type": "stream",
     "text": [
      "Accuracy in randomforest:  0.8972315542196064\n"
     ]
    }
   ],
   "source": [
    "#build randomforest model\n",
    "rf=ensemble.RandomForestClassifier(n_estimators=200, random_state=1234)\n",
    "rf.fit(X_train,y_train)\n",
    "\n",
    "#predict y on test set\n",
    "rf_pred=rf.predict(X_test)\n",
    "#print accuracy\n",
    "print('Accuracy in randomforest: ',metrics.accuracy_score(y_test,rf_pred))"
   ]
  },
  {
   "cell_type": "code",
   "execution_count": 95,
   "id": "8c0a1c5d",
   "metadata": {},
   "outputs": [
    {
     "name": "stdout",
     "output_type": "stream",
     "text": [
      "0.8918049799508779\n"
     ]
    }
   ],
   "source": [
    "#Calculate the cross-validation score\n",
    "score_pre = cross_val_score(rf, X, y, cv=10).mean()\n",
    "print(score_pre)"
   ]
  },
  {
   "cell_type": "code",
   "execution_count": 93,
   "id": "fc6a1024",
   "metadata": {},
   "outputs": [
    {
     "data": {
      "image/png": "[encoded data removed]",
      "text/plain": [
       "<Figure size 432x288 with 1 Axes>"
      ]
     },
     "metadata": {
      "needs_background": "light"
     },
     "output_type": "display_data"
    }
   ],
   "source": [
    "#Show the ROC curve\n",
    "\n",
    "y_score1=rf.predict_proba(X_test)[:,1]\n",
    "fpr,tpr,threshold=metrics.roc_curve(y_test,y_score1)\n",
    "\n",
    "#calculate AUC\n",
    "roc_auc1=metrics.auc(fpr,tpr)\n",
    "\n",
    "#draw the area chart\n",
    "plt.stackplot(fpr,tpr,color='steelblue',alpha=0.5,edgecolor='black')\n",
    "#draw the margin plot\n",
    "plt.plot(fpr,tpr,color='red',lw=1)\n",
    "#draw the diagonal\n",
    "plt.plot([0,1],[0,1],color='black',linestyle='--')\n",
    "#add text information\n",
    "plt.text(0.5,0.3,'ROC curve(AUC=%0.2f)'%roc_auc1)\n",
    "#set label on axis\n",
    "plt.xlabel('1-Specificity')\n",
    "plt.ylabel('Sensitivity')\n",
    "plt.show()"
   ]
  },
  {
   "cell_type": "code",
   "execution_count": 92,
   "id": "814d5e52",
   "metadata": {},
   "outputs": [
    {
     "data": {
      "text/plain": [
       "<AxesSubplot:>"
      ]
     },
     "execution_count": 92,
     "metadata": {},
     "output_type": "execute_result"
    },
    {
     "data": {
      "image/png": "[encoded data removed]",
      "text/plain": [
       "<Figure size 720x576 with 1 Axes>"
      ]
     },
     "metadata": {
      "needs_background": "light"
     },
     "output_type": "display_data"
    }
   ],
   "source": [
    "#show the importance of each variable\n",
    "importance_rf=rf.feature_importances_\n",
    "impt_series1=pd.Series(importance_rf, index=X_train.columns)\n",
    "impt_series1.sort_values(ascending=True).plot(kind='bar',figsize=(10,8))"
   ]
  },
  {
   "cell_type": "markdown",
   "id": "5db433fb",
   "metadata": {},
   "source": [
    "From the above three models, it can be found that Logistic Regression and RandomForest have relatively higher accuracy which is around 90%. Then, we adjust the parameters of random forest in order for its better predict performance."
   ]
  },
  {
   "cell_type": "markdown",
   "id": "dc9c6cf4",
   "metadata": {},
   "source": [
    "### Hyperparameter Tuning for RandomForest"
   ]
  },
  {
   "cell_type": "markdown",
   "id": "ebe4ff4f",
   "metadata": {},
   "source": [
    "According to related study (https://towardsdatascience.com/hyperparameter-tuning-the-random-forest-in-python-using-scikit-learn-28d2aa77dd74), I notice that the main hyperparameters of random forest include n_estimators, max_depth, min_samples_leaf, min_samples_split, and max_features. First we try to figure out the best n_estimators."
   ]
  },
  {
   "cell_type": "markdown",
   "id": "685813b6",
   "metadata": {},
   "source": [
    "However, due to the amount of dataset, it cannot run after waiting for about 4 hours."
   ]
  },
  {
   "cell_type": "code",
   "execution_count": null,
   "id": "d103d098",
   "metadata": {},
   "outputs": [],
   "source": [
    "param_grid = {\n",
    "        'n_estimators':range(80,200,10),\n",
    "        'max_depth':range(3,12,1),\n",
    "        \"min_samples_split\": [2,4,6,8],\n",
    "        'max_features': [2, 3],\n",
    "        'min_samples_leaf': [3, 4, 5],\n",
    "        }\n",
    "grid_search = GridSearchCV(rf, param_grid, n_jobs=-1, cv=2)\n",
    "grid_search.fit(X_train, y_train)\n",
    "print(grid_search.best_params_)"
   ]
  },
  {
   "cell_type": "markdown",
   "id": "d120705e",
   "metadata": {},
   "source": [
    "# Further Supplement"
   ]
  },
  {
   "cell_type": "markdown",
   "id": "b77cac76",
   "metadata": {},
   "source": [
    "Through the previous data analysis, we have established predictive models for the US Department of Transportation based on the flight's own factors, but obviously delays are usually related to external factors. However, due to the characteristics of the relationship between external variables (such as 'WEATHER_DELAY'), we did not take them into account. Therefore, after completing the previous modeling, I built a weather-based forecasting model by grabbing some weather data to provide the US Department of Transportation with more comprehensive forecasting recommendations."
   ]
  },
  {
   "cell_type": "markdown",
   "id": "0b03bb81",
   "metadata": {},
   "source": [
    "Our original dataset includes all flight information, which is too large to further supplement, so to simplify the analysis, I select the top five busiest airports in January 2022, and add hourly weather information at the airport cities."
   ]
  },
  {
   "cell_type": "markdown",
   "id": "0ea28b10",
   "metadata": {},
   "source": [
    "The top 5 airports: Atlanta, Dallas/Fort Worth, Denvor, Chicago, and Charlotte."
   ]
  },
  {
   "cell_type": "markdown",
   "id": "ec557d12",
   "metadata": {},
   "source": [
    "## Crawl the supplementary data"
   ]
  },
  {
   "cell_type": "markdown",
   "id": "8c018711",
   "metadata": {},
   "source": [
    "It has to be noted that this part is operating in spyder environment. And indexing according to the crawled weather data and filling it into the airline dataset are done using VLOOKUP in Excel. Therefore, only the code for crawling weather data is put here."
   ]
  },
  {
   "cell_type": "code",
   "execution_count": null,
   "id": "40a05bae",
   "metadata": {},
   "outputs": [],
   "source": [
    "# -*- coding = utf-8 -*-\n",
    "from bs4 import BeautifulSoup\n",
    "import urllib\n",
    "import ssl\n",
    "import requests\n",
    "import urllib.request\n",
    "import xlwt\n",
    "\n",
    "ssl._create_default_https_context = ssl._create_unverified_context\n",
    "\n",
    "from requests.packages.urllib3.exceptions import InsecureRequestWarning\n",
    "\n",
    "requests.packages.urllib3.disable_warnings(InsecureRequestWarning)\n",
    "import urllib.parse\n",
    "\n",
    "def main():\n",
    "    baseurl1 = \"https://www.timeanddate.com/scripts/cityajax.php?n=usa/\"\n",
    "    baseurl2 = \"&mode=historic&month=1&year=2022&hd=202201\"\n",
    "    citys = [\"Atlanta\", \"Dallas\", \"Denver\", \"Chicago\", \"Charlotte\",] # city lists\n",
    "    workbook = xlwt.Workbook(encoding=\"utf-8\")\n",
    "    worksheet = workbook.add_sheet('sheet1')\n",
    "    row_start = 0\n",
    "    for city in citys:\n",
    "        baseurl = baseurl1 + city + baseurl2  # encode for url\n",
    "        for day in range(1,32):\n",
    "            pressdata = getfduPressdata(city, day, baseurl)\n",
    "            col_max = int(len(pressdata[1]))\n",
    "            row_max = len(pressdata)\n",
    "            print(row_max, col_max)\n",
    "            for col in range(0, col_max):\n",
    "                for row in range(0, row_max):\n",
    "                    # print(row, col)\n",
    "                    row_index = row_start + row\n",
    "                    worksheet.write(row_index, col, pressdata[row][col])\n",
    "            row_start += row_max\n",
    "        savapath = r'./weather.xls'\n",
    "        workbook.save(savapath)\n",
    "\n",
    "def getfduPressdata(city, day,url):\n",
    "    url = url + '{:0=2}'.format(day)\n",
    "    datalist = []\n",
    "    html = askurl(url)\n",
    "    soup = BeautifulSoup(html, \"html.parser\")\n",
    "    current_time = \"0\"\n",
    "    for index, tr in enumerate(soup.find_all('tr')[3:-1]):\n",
    "        time = tr.th.string\n",
    "        if current_time == time[:2]:\n",
    "            continue\n",
    "        # print(time) # time\n",
    "        temerature = tr.td.next_sibling.string\n",
    "        temerature = \"\".join(temerature.split())\n",
    "        # print(temerature) #temperature\n",
    "        short_weather = tr.td.next_sibling.next_sibling.string\n",
    "        # print(short_weather)  # short weather\n",
    "        wind_speed = tr.td.next_sibling.next_sibling.next_sibling.string\n",
    "        # print(wind_speed) #wind speed\n",
    "        if wind_speed == \"No wind\":\n",
    "            wind_speed = \"0 km/h\"\n",
    "        humidity = tr.td.next_sibling.next_sibling.next_sibling.next_sibling.next_sibling.string\n",
    "        # print(humidity)  # humidity\n",
    "        barometer = tr.td.next_sibling.next_sibling.next_sibling.next_sibling.next_sibling.next_sibling.string\n",
    "        # print(barometer)  # barometer\n",
    "        visibility = tr.td.next_sibling.next_sibling.next_sibling.next_sibling.next_sibling.next_sibling.next_sibling.string\n",
    "        # print(visibility)  # barometer\n",
    "        visibility = \"\".join(visibility.split())\n",
    "        data = [city, day, time, time[:2], temerature, short_weather, wind_speed, humidity, barometer, visibility]\n",
    "        datalist.append(data)\n",
    "        current_time = time[:2]\n",
    "    return datalist\n",
    "\n",
    "def askurl(url):\n",
    "    header = {\n",
    "        \"User-Agent\": \"Mozilla / 5.0\",\n",
    "        'content_type' : 'application/liquid; charset=utf-8'\n",
    "\n",
    "    }\n",
    "    request = urllib.request.Request(url, headers=header)\n",
    "    html = \"\"\n",
    "    try:\n",
    "        response = urllib.request.urlopen(request)\n",
    "        html = response.read().decode(\"utf-8\",errors='ignore')\n",
    "    except urllib.error.URLError as e:\n",
    "        if hasattr(e, \"code\"):\n",
    "            print(e.code)\n",
    "        if hasattr(e, \"reason\"):\n",
    "            print(e.reason)\n",
    "    return html\n",
    "\n",
    "\n",
    "\n",
    "if __name__ == \"__main__\":\n",
    "    main()\n"
   ]
  },
  {
   "cell_type": "markdown",
   "id": "be8cb305",
   "metadata": {},
   "source": [
    "## Read in the Supplement Dataset"
   ]
  },
  {
   "cell_type": "markdown",
   "id": "ab556fe5",
   "metadata": {},
   "source": [
    "The supplementary dataset is put in the zip file and also available via the same link as the 'flight.csv' one in the main section.\n",
    "https://livewarwickac-my.sharepoint.com/:f:/g/personal/u2118963_live_warwick_ac_uk/ErNythFU0FpOp6NIrSJ5TGIBk4EtETYkaeIGZdF-_WfwnQ?e=1CRlz3"
   ]
  },
  {
   "cell_type": "code",
   "execution_count": 97,
   "id": "f7d70680",
   "metadata": {},
   "outputs": [],
   "source": [
    "#read the dataset that has been integrat via Excel\n",
    "df_wt=pd.read_csv('airport_5_with_weather1.csv')"
   ]
  },
  {
   "cell_type": "code",
   "execution_count": 98,
   "id": "9afe8c7e",
   "metadata": {},
   "outputs": [
    {
     "name": "stdout",
     "output_type": "stream",
     "text": [
      "<class 'pandas.core.frame.DataFrame'>\n",
      "RangeIndex: 112209 entries, 0 to 112208\n",
      "Data columns (total 25 columns):\n",
      " #   Column             Non-Null Count   Dtype  \n",
      "---  ------             --------------   -----  \n",
      " 0   index              112209 non-null  int64  \n",
      " 1   DAY_OF_MONTH       112209 non-null  int64  \n",
      " 2   FL_DATE            112209 non-null  object \n",
      " 3   ORIGIN_AIRPORT_ID  112209 non-null  int64  \n",
      " 4   ORIGIN             112209 non-null  object \n",
      " 5   ORIGIN_CITY_NAME   112209 non-null  object \n",
      " 6   DEST_AIRPORT_ID    112209 non-null  int64  \n",
      " 7   DEST               112209 non-null  object \n",
      " 8   DEST_CITY_NAME     112209 non-null  object \n",
      " 9   DEP_DELAY          105366 non-null  float64\n",
      " 10  DEP_DEL15          105366 non-null  float64\n",
      " 11  DEP_DELAY_GROUP    105366 non-null  float64\n",
      " 12  DEP_TIME_BLK       112209 non-null  object \n",
      " 13  ARR_DELAY          105107 non-null  float64\n",
      " 14  ARR_DEL15          105107 non-null  float64\n",
      " 15  ARR_DELAY_GROUP    105107 non-null  float64\n",
      " 16  ARR_TIME_BLK       112209 non-null  object \n",
      " 17  Unnamed: 17        112209 non-null  int64  \n",
      " 18  INDEX_WEA          112209 non-null  object \n",
      " 19  TEMP               106971 non-null  object \n",
      " 20  WEATHER            106971 non-null  object \n",
      " 21  WIND               106971 non-null  object \n",
      " 22  HUM                106971 non-null  object \n",
      " 23  BAR                106971 non-null  object \n",
      " 24  VIS                106971 non-null  object \n",
      "dtypes: float64(6), int64(5), object(14)\n",
      "memory usage: 21.4+ MB\n"
     ]
    }
   ],
   "source": [
    "df_wt.info()"
   ]
  },
  {
   "cell_type": "markdown",
   "id": "53b692a0",
   "metadata": {},
   "source": [
    "## Data Processing"
   ]
  },
  {
   "cell_type": "markdown",
   "id": "ef1ec520",
   "metadata": {},
   "source": [
    "Since this part of the data is relatively simple, and it is a supplementary study, I decide to simplify the data preparation process, mainly deleting some useless columns and missing values."
   ]
  },
  {
   "cell_type": "code",
   "execution_count": 100,
   "id": "5bcefcb0",
   "metadata": {},
   "outputs": [
    {
     "data": {
      "text/plain": [
       "DAY_OF_MONTH         0\n",
       "FL_DATE              0\n",
       "ORIGIN_AIRPORT_ID    0\n",
       "ORIGIN               0\n",
       "ORIGIN_CITY_NAME     0\n",
       "DEST_AIRPORT_ID      0\n",
       "DEST                 0\n",
       "DEST_CITY_NAME       0\n",
       "DEP_DELAY            0\n",
       "DEP_DEL15            0\n",
       "DEP_DELAY_GROUP      0\n",
       "DEP_TIME_BLK         0\n",
       "ARR_DELAY            0\n",
       "ARR_DEL15            0\n",
       "ARR_DELAY_GROUP      0\n",
       "ARR_TIME_BLK         0\n",
       "Unnamed: 17          0\n",
       "INDEX_WEA            0\n",
       "TEMP                 0\n",
       "WEATHER              0\n",
       "WIND                 0\n",
       "HUM                  0\n",
       "BAR                  0\n",
       "VIS                  0\n",
       "dtype: int64"
      ]
     },
     "execution_count": 100,
     "metadata": {},
     "output_type": "execute_result"
    }
   ],
   "source": [
    "#delete the column 'index' which is meaningless\n",
    "df_wt=df_wt.drop(columns=['index'])\n",
    "\n",
    "#delete the rows where significant information is missing\n",
    "df_wt.drop(df_wt.loc[df_wt['DEP_DELAY'].isnull()].index,inplace=True)\n",
    "df_wt.drop(df_wt.loc[df_wt['ARR_DELAY'].isnull()].index,inplace=True)\n",
    "df_wt.drop(df_wt.loc[df_wt['TEMP'].isnull()].index,inplace=True)\n",
    "#check if there is any missing values\n",
    "df_wt.isnull().sum()"
   ]
  },
  {
   "cell_type": "markdown",
   "id": "e654987c",
   "metadata": {},
   "source": [
    "Next, we screen out the variables needed for modeling according to the forecast requirements. Additionally, because variables such as wind are strings, we convert them to digits for the convenience of modeling."
   ]
  },
  {
   "cell_type": "code",
   "execution_count": 102,
   "id": "45795cef",
   "metadata": {},
   "outputs": [
    {
     "data": {
      "text/plain": [
       "Passing clouds.                         29264\n",
       "Sunny.                                  13351\n",
       "Clear.                                  10609\n",
       "Partly sunny.                            9756\n",
       "Overcast.                                9470\n",
       "Scattered clouds.                        5641\n",
       "Broken clouds.                           4794\n",
       "Mostly cloudy.                           4163\n",
       "Light snow. Ice fog.                     1874\n",
       "Partly cloudy.                           1741\n",
       "More clouds than sun.                     848\n",
       "Light rain. Fog.                          841\n",
       "Light rain. Mostly cloudy.                834\n",
       "Low clouds.                               703\n",
       "Light snow. Overcast.                     665\n",
       "Ice fog.                                  651\n",
       "Fog.                                      603\n",
       "Light snow. Mostly cloudy.                581\n",
       "Light rain. Overcast.                     550\n",
       "Light freezing rain. Ice fog.             428\n",
       "Light snow. Partly sunny.                 302\n",
       "Light snow. Fog.                          298\n",
       "Cloudy.                                   272\n",
       "Snow. Ice fog.                            250\n",
       "Light snow. Passing clouds.               229\n",
       "Light rain. Low clouds.                   197\n",
       "Light rain. Broken clouds.                184\n",
       "Light snow. Broken clouds.                182\n",
       "Light rain. More clouds than sun.          99\n",
       "Light snow. Cloudy.                        88\n",
       "Drizzle. Fog.                              85\n",
       "High level clouds.                         70\n",
       "Light freezing rain. Fog.                  61\n",
       "Rain. Cloudy.                              57\n",
       "Light snow. Partly cloudy.                 56\n",
       "Rain. Fog.                                 53\n",
       "Light rain. Cloudy.                        51\n",
       "Rain. Overcast.                            47\n",
       "Drizzle. Mostly cloudy.                    42\n",
       "Heavy rain. Fog.                           39\n",
       "Quite cool.                                37\n",
       "Light freezing rain. Low clouds.           34\n",
       "Drizzle. Overcast.                         32\n",
       "Light snow. Low clouds.                    26\n",
       "Heavy rain. Overcast.                      17\n",
       "Light rain. Passing clouds.                12\n",
       "Light snow. More clouds than sun.          11\n",
       "Sleet. Fog.                                 2\n",
       "Freezing rain. More clouds than sun.        1\n",
       "Name: WEATHER, dtype: int64"
      ]
     },
     "execution_count": 102,
     "metadata": {},
     "output_type": "execute_result"
    }
   ],
   "source": [
    "#delete useless columns\n",
    "df_wt_model=df_wt.drop(columns=['FL_DATE','ORIGIN','ORIGIN_CITY_NAME','DEST','DEST_CITY_NAME','DEP_DELAY','Unnamed: 17',\n",
    "                            'DEP_DELAY_GROUP','DEP_TIME_BLK','ARR_DELAY','ARR_DELAY_GROUP','ARR_TIME_BLK'])\n",
    "\n",
    "#extract digits from original strings to get the exact data of each variable\n",
    "df_wt_model['wind']=df_wt_model['WIND'].str.extract('(\\d+)')\n",
    "df_wt_model['temp']=df_wt_model['TEMP'].str.extract('(\\d+)')\n",
    "df_wt_model['vis']=df_wt_model['VIS'].str.extract('(\\d+)')\n",
    "df_wt_model['hum']=df_wt_model['HUM'].str.extract('(\\d+)')\n",
    "df_wt_model['bar']=df_wt_model['BAR'].str.extract('(\\d+)')\n",
    "\n",
    "#delete original columns with strings\n",
    "df_wt_model.drop(columns=['TEMP','WIND','HUM','BAR','VIS'],inplace=True)\n",
    "\n",
    "#check how the variable 'WEATHER' appears\n",
    "df_wt_model['WEATHER'].value_counts()"
   ]
  },
  {
   "cell_type": "markdown",
   "id": "30163f2e",
   "metadata": {},
   "source": [
    "The 'WEATHER' column has too many different values to be made into a categorical or dummy variable to fit into the model, so I decided to drop this column."
   ]
  },
  {
   "cell_type": "code",
   "execution_count": 103,
   "id": "33d2dd43",
   "metadata": {},
   "outputs": [],
   "source": [
    "df_wt_model.drop(columns=['INDEX_WEA','WEATHER'],inplace=True)"
   ]
  },
  {
   "cell_type": "code",
   "execution_count": 104,
   "id": "ba0b6336",
   "metadata": {},
   "outputs": [
    {
     "name": "stdout",
     "output_type": "stream",
     "text": [
      "<class 'pandas.core.frame.DataFrame'>\n",
      "Int64Index: 100201 entries, 0 to 112208\n",
      "Data columns (total 10 columns):\n",
      " #   Column             Non-Null Count   Dtype  \n",
      "---  ------             --------------   -----  \n",
      " 0   DAY_OF_MONTH       100201 non-null  int64  \n",
      " 1   ORIGIN_AIRPORT_ID  100201 non-null  int64  \n",
      " 2   DEST_AIRPORT_ID    100201 non-null  int64  \n",
      " 3   DEP_DEL15          100201 non-null  float64\n",
      " 4   ARR_DEL15          100201 non-null  float64\n",
      " 5   wind               100201 non-null  object \n",
      " 6   temp               100201 non-null  object \n",
      " 7   vis                100201 non-null  object \n",
      " 8   hum                100201 non-null  object \n",
      " 9   bar                100201 non-null  object \n",
      "dtypes: float64(2), int64(3), object(5)\n",
      "memory usage: 8.4+ MB\n"
     ]
    }
   ],
   "source": [
    "df_wt_model.info()"
   ]
  },
  {
   "cell_type": "markdown",
   "id": "ef193ca9",
   "metadata": {},
   "source": [
    "Since object types are not suitable for modeling, they need to be converted to integers."
   ]
  },
  {
   "cell_type": "code",
   "execution_count": 105,
   "id": "42f803e4",
   "metadata": {},
   "outputs": [],
   "source": [
    "#convert the extracted number to the format of int\n",
    "df_wt_model['wind']=df_wt_model['wind'].astype(int)\n",
    "df_wt_model['temp']=df_wt_model['temp'].astype(int)\n",
    "df_wt_model['vis']=df_wt_model['vis'].astype(int)\n",
    "df_wt_model['hum']=df_wt_model['hum'].astype(int)\n",
    "df_wt_model['bar']=df_wt_model['bar'].astype(int)"
   ]
  },
  {
   "cell_type": "markdown",
   "id": "f7ea2b01",
   "metadata": {},
   "source": [
    "Before modeling, relationship matrix is used as usual to see the overall relationship between variables."
   ]
  },
  {
   "cell_type": "code",
   "execution_count": 106,
   "id": "95b89882",
   "metadata": {},
   "outputs": [
    {
     "data": {
      "image/png": "[encoded data removed]",
      "text/plain": [
       "<Figure size 1440x720 with 2 Axes>"
      ]
     },
     "metadata": {
      "needs_background": "light"
     },
     "output_type": "display_data"
    }
   ],
   "source": [
    "#get the correlation coefficient matrix\n",
    "coef=df_wt_model.corr(method='pearson')\n",
    "#show the matrix with a heatmap\n",
    "plt.figure(figsize=(20,10))\n",
    "sns.heatmap(df_wt_model.corr() \n",
    "            ,xticklabels=coef.columns \n",
    "            ,yticklabels=coef.columns \n",
    "            ,cmap='RdYlGn'           \n",
    "             # cmap='YlGnBu'\n",
    "            ,center =0 \n",
    "            ,annot=True\n",
    ")\n",
    "plt.title('Matrix of correlation coefficients',fontsize=28)\n",
    "plt.xticks(fontsize=12,rotation=45,horizontalalignment='right')\n",
    "plt.yticks(fontsize=10)\n",
    "plt.show()"
   ]
  },
  {
   "cell_type": "markdown",
   "id": "be5d388b",
   "metadata": {},
   "source": [
    "## Predictive Models"
   ]
  },
  {
   "cell_type": "code",
   "execution_count": 107,
   "id": "51c084be",
   "metadata": {},
   "outputs": [],
   "source": [
    "#Dependent variable: whether the flight is delayed\n",
    "#Independent variables: rest ones\n",
    "X1=df_wt_model.drop(columns='ARR_DEL15')\n",
    "y1=df_wt_model['ARR_DEL15']\n",
    "\n",
    "#split train/test sets\n",
    "X1_train, X1_test, y1_train, y1_test=train_test_split(X1,y1,test_size=0.3, random_state=1234)"
   ]
  },
  {
   "cell_type": "markdown",
   "id": "0e142d84",
   "metadata": {},
   "source": [
    "After spliting the train and test datasets, we continue to the model construction step. Here I choose to run the logistic regression, decision tree, random forest and k-nearest neighbors algorithm for prediction."
   ]
  },
  {
   "cell_type": "markdown",
   "id": "5e99b29f",
   "metadata": {},
   "source": [
    "### Logistic Regression"
   ]
  },
  {
   "cell_type": "code",
   "execution_count": 108,
   "id": "2f332928",
   "metadata": {},
   "outputs": [
    {
     "name": "stderr",
     "output_type": "stream",
     "text": [
      "/Users/juqianyue/opt/anaconda3/lib/python3.9/site-packages/sklearn/linear_model/_logistic.py:763: ConvergenceWarning: lbfgs failed to converge (status=1):\n",
      "STOP: TOTAL NO. of ITERATIONS REACHED LIMIT.\n",
      "\n",
      "Increase the number of iterations (max_iter) or scale the data as shown in:\n",
      "    https://scikit-learn.org/stable/modules/preprocessing.html\n",
      "Please also refer to the documentation for alternative solver options:\n",
      "    https://scikit-learn.org/stable/modules/linear_model.html#logistic-regression\n",
      "  n_iter_i = _check_optimize_result(\n"
     ]
    },
    {
     "data": {
      "text/plain": [
       "0.0    29028\n",
       "1.0     1033\n",
       "dtype: int64"
      ]
     },
     "execution_count": 108,
     "metadata": {},
     "output_type": "execute_result"
    }
   ],
   "source": [
    "sklearn_logistic1=linear_model.LogisticRegression()\n",
    "sklearn_logistic1.fit(X1_train,y1_train)\n",
    "\n",
    "#make predictions\n",
    "sklearn_predict1=sklearn_logistic1.predict(X1_test)\n",
    "\n",
    "#show the prediction results\n",
    "pd.Series(sklearn_predict1).value_counts()"
   ]
  },
  {
   "cell_type": "code",
   "execution_count": 109,
   "id": "7b6e8836",
   "metadata": {},
   "outputs": [
    {
     "name": "stdout",
     "output_type": "stream",
     "text": [
      "[[24397   616]\n",
      " [ 4631   417]]\n",
      "Accuracy for Logistic Regression:  0.9156583899568062\n"
     ]
    }
   ],
   "source": [
    "#get the confusion matrix\n",
    "cm1=metrics.confusion_matrix(y1_test,sklearn_predict1,labels=[0,1])\n",
    "print(cm1)\n",
    "#get the accuracy score\n",
    "print('Accuracy for Logistic Regression: ',sklearn_logistic.score(X_test,y_test))"
   ]
  },
  {
   "cell_type": "markdown",
   "id": "abf936dd",
   "metadata": {},
   "source": [
    "### Decision Tree"
   ]
  },
  {
   "cell_type": "code",
   "execution_count": 110,
   "id": "2cab685e",
   "metadata": {},
   "outputs": [
    {
     "name": "stdout",
     "output_type": "stream",
     "text": [
      "Accuracy for Decision Tree: 0.8750207910581816\n"
     ]
    }
   ],
   "source": [
    "#build a decision tree\n",
    "clf1=DecisionTreeClassifier(random_state=50)\n",
    "clf1.fit(X1_train,y1_train)\n",
    "#predict with the tree\n",
    "y_predtree = clf1.predict(X1_test)\n",
    "print(\"Accuracy for Decision Tree:\",metrics.accuracy_score(y1_test, y_predtree))"
   ]
  },
  {
   "cell_type": "code",
   "execution_count": 111,
   "id": "1f3e1303",
   "metadata": {},
   "outputs": [
    {
     "data": {
      "text/plain": [
       "<AxesSubplot:>"
      ]
     },
     "execution_count": 111,
     "metadata": {},
     "output_type": "execute_result"
    },
    {
     "data": {
      "image/png": "[encoded data removed]",
      "text/plain": [
       "<Figure size 720x576 with 1 Axes>"
      ]
     },
     "metadata": {
      "needs_background": "light"
     },
     "output_type": "display_data"
    }
   ],
   "source": [
    "#show the importance of each variable\n",
    "importance_clf1=clf1.feature_importances_\n",
    "impt1_series=pd.Series(importance_clf1, index=X1_train.columns)\n",
    "impt1_series.sort_values(ascending=True).plot(kind='bar',figsize=(10,8))"
   ]
  },
  {
   "cell_type": "markdown",
   "id": "ec3637b1",
   "metadata": {},
   "source": [
    "### Random Forest"
   ]
  },
  {
   "cell_type": "code",
   "execution_count": 113,
   "id": "e6c84428",
   "metadata": {},
   "outputs": [
    {
     "name": "stdout",
     "output_type": "stream",
     "text": [
      "Accuracy for RandomForest:  0.8929842653271681\n"
     ]
    }
   ],
   "source": [
    "rf1=ensemble.RandomForestClassifier(n_estimators=100, random_state=1234)\n",
    "rf1.fit(X1_train,y1_train)\n",
    "\n",
    "#predict y on test set\n",
    "rf1_pred=rf1.predict(X1_test)\n",
    "#print accuracy\n",
    "print('Accuracy for RandomForest: ',metrics.accuracy_score(y1_test,rf1_pred))"
   ]
  },
  {
   "cell_type": "code",
   "execution_count": 115,
   "id": "503b403d",
   "metadata": {},
   "outputs": [
    {
     "data": {
      "text/plain": [
       "<AxesSubplot:>"
      ]
     },
     "execution_count": 115,
     "metadata": {},
     "output_type": "execute_result"
    },
    {
     "data": {
      "image/png": "[encoded data removed]",
      "text/plain": [
       "<Figure size 720x576 with 1 Axes>"
      ]
     },
     "metadata": {
      "needs_background": "light"
     },
     "output_type": "display_data"
    }
   ],
   "source": [
    "#show the importance\n",
    "importance_rf1=rf1.feature_importances_\n",
    "impt2_series=pd.Series(importance_rf1, index=X1_train.columns)\n",
    "impt2_series.sort_values(ascending=True).plot(kind='bar',figsize=(10,8))"
   ]
  },
  {
   "cell_type": "markdown",
   "id": "d077d429",
   "metadata": {},
   "source": [
    "### k-nearest Neighbors Algorithm (k-NN)"
   ]
  },
  {
   "cell_type": "code",
   "execution_count": 114,
   "id": "19a53400",
   "metadata": {},
   "outputs": [
    {
     "name": "stdout",
     "output_type": "stream",
     "text": [
      "Accuracy in KNeighbor:  0.8237916236984798\n"
     ]
    }
   ],
   "source": [
    "knc=KNeighborsClassifier()\n",
    "knc.fit(X1_train,y1_train)\n",
    "knc_pred=knc.predict(X1_test)\n",
    "knc_pred\n",
    "print('Accuracy in KNeighbor: ',metrics.accuracy_score(y1_test,knc_pred))"
   ]
  },
  {
   "cell_type": "markdown",
   "id": "a1ebb2ed",
   "metadata": {},
   "source": [
    "# Conclusion"
   ]
  },
  {
   "cell_type": "markdown",
   "id": "e85ea01c",
   "metadata": {},
   "source": [
    "It has been discovered that logistic regression and random forest are the most accurate models. As a result, these two models can be used by the US Department of Transportation to anticipate if future aircraft would be delayed."
   ]
  },
  {
   "cell_type": "markdown",
   "id": "d8f27129",
   "metadata": {},
   "source": [
    "Furthermore, we can see from the supplemental model study that humidity, air pressure, and wind speed have a bigger impact than other meteorological elements. Hence, although we did not include weather as an independent variable in the primary prediction models this time, future study by the US Transportation could focus on taking into consideration rainfall and storm weather to improve subsequent model predictions."
   ]
  }
 ],
 "metadata": {
  "kernelspec": {
   "display_name": "Python 3 (ipykernel)",
   "language": "python",
   "name": "python3"
  },
  "language_info": {
   "codemirror_mode": {
    "name": "ipython",
    "version": 3
   },
   "file_extension": ".py",
   "mimetype": "text/x-python",
   "name": "python",
   "nbconvert_exporter": "python",
   "pygments_lexer": "ipython3",
   "version": "3.9.7"
  },
  "toc": {
   "base_numbering": 1,
   "nav_menu": {},
   "number_sections": true,
   "sideBar": true,
   "skip_h1_title": false,
   "title_cell": "Table of Contents",
   "title_sidebar": "Contents",
   "toc_cell": true,
   "toc_position": {},
   "toc_section_display": true,
   "toc_window_display": false
  }
 },
 "nbformat": 4,
 "nbformat_minor": 5
}
